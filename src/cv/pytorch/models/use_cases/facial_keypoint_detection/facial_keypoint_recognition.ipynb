{
 "cells": [
  {
   "cell_type": "markdown",
   "id": "745c21e6",
   "metadata": {},
   "source": [
    "#### Download data from Kaggle"
   ]
  },
  {
   "cell_type": "code",
   "execution_count": 2,
   "id": "698cdb14",
   "metadata": {},
   "outputs": [],
   "source": [
    "from kaggle_utils.src import KaggleDataApi"
   ]
  },
  {
   "cell_type": "code",
   "execution_count": 3,
   "id": "e400554f",
   "metadata": {},
   "outputs": [
    {
     "name": "stdout",
     "output_type": "stream",
     "text": [
      "File downloaded and saved to:   c:\\users\\sankr\\documents\\projects\\git_work\\experiments\\data\\facial-keypoints-detection.zip\n"
     ]
    }
   ],
   "source": [
    "kda = KaggleDataApi(call_path = CURRENT_ROOT_DIR)\n",
    "kda.download_kaggle_dataset(dataset_name=\"facial_keypoints_detection\")"
   ]
  },
  {
   "cell_type": "code",
   "execution_count": 4,
   "id": "f0617c18",
   "metadata": {
    "scrolled": true
   },
   "outputs": [
    {
     "data": {
      "text/plain": [
       "('c:\\\\users\\\\sankr\\\\documents\\\\projects\\\\git_work\\\\experiments\\\\data\\\\facial-keypoints-detection',\n",
       " ['IdLookupTable.csv', 'SampleSubmission.csv', 'test.zip', 'training.zip'])"
      ]
     },
     "execution_count": 4,
     "metadata": {},
     "output_type": "execute_result"
    }
   ],
   "source": [
    "kda.unzip_and_return_folder_details()"
   ]
  },
  {
   "cell_type": "code",
   "execution_count": 7,
   "id": "d0b04c91",
   "metadata": {},
   "outputs": [],
   "source": [
    "for file_name in [\"test.zip\", \"training.zip\"]:\n",
    "    complete_path = os.path.join(root_folder, file_name)\n",
    "    with zipfile.ZipFile(complete_path, 'r') as zip_ref:\n",
    "        zip_ref.extractall(root_folder)"
   ]
  },
  {
   "cell_type": "markdown",
   "id": "d3b3aca0",
   "metadata": {},
   "source": [
    "#### Data exploration"
   ]
  },
  {
   "cell_type": "code",
   "execution_count": 23,
   "id": "12882973",
   "metadata": {},
   "outputs": [],
   "source": [
    "root_folder = \"c:\\\\users\\\\sankr\\\\documents\\\\projects\\\\git_work\\\\experiments\\\\data\\\\facial-keypoints-detection\"\n",
    "import os\n",
    "import zipfile\n",
    "import pandas as pd\n",
    "import numpy as np"
   ]
  },
  {
   "cell_type": "code",
   "execution_count": 24,
   "id": "7bf43e7c",
   "metadata": {
    "scrolled": true
   },
   "outputs": [
    {
     "data": {
      "text/plain": [
       "['IdLookupTable.csv',\n",
       " 'SampleSubmission.csv',\n",
       " 'test',\n",
       " 'test.csv',\n",
       " 'test.zip',\n",
       " 'training',\n",
       " 'training.csv',\n",
       " 'training.zip']"
      ]
     },
     "execution_count": 24,
     "metadata": {},
     "output_type": "execute_result"
    }
   ],
   "source": [
    "os.listdir(root_folder)"
   ]
  },
  {
   "cell_type": "code",
   "execution_count": 25,
   "id": "fc6cec74",
   "metadata": {},
   "outputs": [],
   "source": [
    "annotation_file = os.path.join(root_folder, \"IdLookupTable.csv\")\n",
    "submission_file = os.path.join(root_folder, \"SampleSubmission.csv\")\n",
    "test_data = os.path.join(root_folder, \"test.csv\")\n",
    "train_data = os.path.join(root_folder, \"training.csv\")"
   ]
  },
  {
   "cell_type": "code",
   "execution_count": 26,
   "id": "d23e640a",
   "metadata": {},
   "outputs": [],
   "source": [
    "os.makedirs(os.path.join(root_folder, train_data.replace(\"csv\", \"\")), exist_ok =True)\n",
    "os.makedirs(os.path.join(root_folder, test_data.replace(\"csv\", \"\")), exist_ok = True)"
   ]
  },
  {
   "cell_type": "code",
   "execution_count": 27,
   "id": "84a7a809",
   "metadata": {},
   "outputs": [],
   "source": [
    "from PIL import Image"
   ]
  },
  {
   "cell_type": "code",
   "execution_count": 28,
   "id": "cf47a9a8",
   "metadata": {},
   "outputs": [],
   "source": [
    "import pandas as pd\n",
    "import numpy as np"
   ]
  },
  {
   "cell_type": "code",
   "execution_count": 29,
   "id": "61c8bbe1",
   "metadata": {
    "scrolled": true
   },
   "outputs": [],
   "source": [
    "df = pd.read_csv(train_data)"
   ]
  },
  {
   "cell_type": "code",
   "execution_count": 30,
   "id": "7cfce590",
   "metadata": {},
   "outputs": [],
   "source": [
    "df[\"Image\"] = df.Image.apply(lambda x: np.array(x.split(\" \"), dtype=\"float\"))\n",
    "df[\"Image\"] = df.Image.apply(lambda pixel: pixel.reshape(96, 96, 1))\n",
    "df[\"Image\"] = df.Image.apply(lambda pixel: pixel/255)"
   ]
  },
  {
   "cell_type": "code",
   "execution_count": 31,
   "id": "cc943377",
   "metadata": {},
   "outputs": [],
   "source": [
    "images = df.pop(\"Image\")"
   ]
  },
  {
   "cell_type": "code",
   "execution_count": 32,
   "id": "c65b6da2",
   "metadata": {},
   "outputs": [
    {
     "data": {
      "text/plain": [
       "Index(['left_eye_center_x', 'left_eye_center_y', 'right_eye_center_x',\n",
       "       'right_eye_center_y', 'left_eye_inner_corner_x',\n",
       "       'left_eye_inner_corner_y', 'left_eye_outer_corner_x',\n",
       "       'left_eye_outer_corner_y', 'right_eye_inner_corner_x',\n",
       "       'right_eye_inner_corner_y', 'right_eye_outer_corner_x',\n",
       "       'right_eye_outer_corner_y', 'left_eyebrow_inner_end_x',\n",
       "       'left_eyebrow_inner_end_y', 'left_eyebrow_outer_end_x',\n",
       "       'left_eyebrow_outer_end_y', 'right_eyebrow_inner_end_x',\n",
       "       'right_eyebrow_inner_end_y', 'right_eyebrow_outer_end_x',\n",
       "       'right_eyebrow_outer_end_y', 'nose_tip_x', 'nose_tip_y',\n",
       "       'mouth_left_corner_x', 'mouth_left_corner_y', 'mouth_right_corner_x',\n",
       "       'mouth_right_corner_y', 'mouth_center_top_lip_x',\n",
       "       'mouth_center_top_lip_y', 'mouth_center_bottom_lip_x',\n",
       "       'mouth_center_bottom_lip_y'],\n",
       "      dtype='object')"
      ]
     },
     "execution_count": 32,
     "metadata": {},
     "output_type": "execute_result"
    }
   ],
   "source": [
    "df.columns"
   ]
  },
  {
   "cell_type": "code",
   "execution_count": 33,
   "id": "f2de01a5",
   "metadata": {},
   "outputs": [
    {
     "data": {
      "text/plain": [
       "array([[[0.93333333],\n",
       "        [0.9254902 ],\n",
       "        [0.92941176],\n",
       "        ...,\n",
       "        [0.98039216],\n",
       "        [0.98039216],\n",
       "        [0.98039216]],\n",
       "\n",
       "       [[0.92156863],\n",
       "        [0.93333333],\n",
       "        [0.9254902 ],\n",
       "        ...,\n",
       "        [0.97647059],\n",
       "        [0.98039216],\n",
       "        [0.98431373]],\n",
       "\n",
       "       [[0.92941176],\n",
       "        [0.9254902 ],\n",
       "        [0.92941176],\n",
       "        ...,\n",
       "        [0.98431373],\n",
       "        [0.98431373],\n",
       "        [0.98039216]],\n",
       "\n",
       "       ...,\n",
       "\n",
       "       [[0.72941176],\n",
       "        [0.71764706],\n",
       "        [0.70980392],\n",
       "        ...,\n",
       "        [0.20392157],\n",
       "        [0.22352941],\n",
       "        [0.23529412]],\n",
       "\n",
       "       [[0.74117647],\n",
       "        [0.7372549 ],\n",
       "        [0.81176471],\n",
       "        ...,\n",
       "        [0.23921569],\n",
       "        [0.27058824],\n",
       "        [0.30588235]],\n",
       "\n",
       "       [[0.74901961],\n",
       "        [0.72156863],\n",
       "        [0.72156863],\n",
       "        ...,\n",
       "        [0.2745098 ],\n",
       "        [0.29411765],\n",
       "        [0.35294118]]])"
      ]
     },
     "execution_count": 33,
     "metadata": {},
     "output_type": "execute_result"
    }
   ],
   "source": [
    "images[0]"
   ]
  },
  {
   "cell_type": "code",
   "execution_count": 34,
   "id": "ca3c54c4",
   "metadata": {},
   "outputs": [
    {
     "data": {
      "text/plain": [
       "True"
      ]
     },
     "execution_count": 34,
     "metadata": {},
     "output_type": "execute_result"
    }
   ],
   "source": [
    "isinstance(images[0], np.ndarray)"
   ]
  },
  {
   "cell_type": "code",
   "execution_count": 35,
   "id": "920ac9ec",
   "metadata": {},
   "outputs": [
    {
     "data": {
      "text/plain": [
       "<matplotlib.image.AxesImage at 0x1b4391dde50>"
      ]
     },
     "execution_count": 35,
     "metadata": {},
     "output_type": "execute_result"
    },
    {
     "data": {
      "image/png": "[encoded data removed]",
      "text/plain": [
       "<Figure size 640x480 with 1 Axes>"
      ]
     },
     "metadata": {},
     "output_type": "display_data"
    }
   ],
   "source": [
    "from matplotlib import pyplot as plt\n",
    "\n",
    "plt.imshow(images[0])"
   ]
  },
  {
   "cell_type": "code",
   "execution_count": 36,
   "id": "17a4c5bb",
   "metadata": {},
   "outputs": [
    {
     "data": {
      "text/plain": [
       "array([[[0.93333333],\n",
       "        [0.9254902 ],\n",
       "        [0.92941176],\n",
       "        ...,\n",
       "        [0.98039216],\n",
       "        [0.98039216],\n",
       "        [0.98039216]],\n",
       "\n",
       "       [[0.92156863],\n",
       "        [0.93333333],\n",
       "        [0.9254902 ],\n",
       "        ...,\n",
       "        [0.97647059],\n",
       "        [0.98039216],\n",
       "        [0.98431373]],\n",
       "\n",
       "       [[0.92941176],\n",
       "        [0.9254902 ],\n",
       "        [0.92941176],\n",
       "        ...,\n",
       "        [0.98431373],\n",
       "        [0.98431373],\n",
       "        [0.98039216]],\n",
       "\n",
       "       ...,\n",
       "\n",
       "       [[0.72941176],\n",
       "        [0.71764706],\n",
       "        [0.70980392],\n",
       "        ...,\n",
       "        [0.20392157],\n",
       "        [0.22352941],\n",
       "        [0.23529412]],\n",
       "\n",
       "       [[0.74117647],\n",
       "        [0.7372549 ],\n",
       "        [0.81176471],\n",
       "        ...,\n",
       "        [0.23921569],\n",
       "        [0.27058824],\n",
       "        [0.30588235]],\n",
       "\n",
       "       [[0.74901961],\n",
       "        [0.72156863],\n",
       "        [0.72156863],\n",
       "        ...,\n",
       "        [0.2745098 ],\n",
       "        [0.29411765],\n",
       "        [0.35294118]]])"
      ]
     },
     "execution_count": 36,
     "metadata": {},
     "output_type": "execute_result"
    }
   ],
   "source": [
    "images[0]"
   ]
  },
  {
   "cell_type": "markdown",
   "id": "0c70a315",
   "metadata": {},
   "source": [
    "#### Modelling"
   ]
  },
  {
   "cell_type": "code",
   "execution_count": null,
   "id": "51f9fd52",
   "metadata": {},
   "outputs": [],
   "source": [
    "from src.cv.pytorch.data_loader.use_cases.facial_keypoint_detection.dataloader import FacialKeypointDataLoader\n",
    "from src.cv.pytorch.models.configs import ModelTrainingConfig, ModelDataConfig\n",
    "from src.cv.pytorch.models.use_cases.facial_keypoint_detection.utils import show_key_points_on_images\n",
    "from src import CURRENT_ROOT_DIR"
   ]
  },
  {
   "cell_type": "code",
   "execution_count": null,
   "id": "ad367695",
   "metadata": {},
   "outputs": [],
   "source": [
    "from torch.utils.data.sampler import SubsetRandomSampler\n",
    "from torch.utils.data import DataLoader"
   ]
  },
  {
   "cell_type": "code",
   "execution_count": null,
   "id": "3bc3f063",
   "metadata": {
    "scrolled": false
   },
   "outputs": [],
   "source": [
    "fkdl = FacialKeypointDataLoader(\n",
    "    dataset_name=\"faces\", \n",
    "    data_type = \"csv\",\n",
    "    data_file=r\"data/facial-keypoints-detection/training.csv\"\n",
    ")\n"
   ]
  },
  {
   "cell_type": "code",
   "execution_count": null,
   "id": "7fad13e4",
   "metadata": {},
   "outputs": [],
   "source": [
    "len(fkdl)"
   ]
  },
  {
   "cell_type": "code",
   "execution_count": 5,
   "id": "1b5d218f",
   "metadata": {},
   "outputs": [],
   "source": [
    "# Initial config for training\n",
    "model_config = ModelTrainingConfig(\n",
    "    learning_rate=0.01, batch_size=256, epochs=50, \n",
    ")\n",
    "data_config = ModelDataConfig(train_size=0.8, validation_size=0.2, dataset_size=len(fkdl))"
   ]
  },
  {
   "cell_type": "code",
   "execution_count": 6,
   "id": "1ba20ee2",
   "metadata": {},
   "outputs": [],
   "source": [
    "train_loader = DataLoader(\n",
    "    fkdl, batch_size=model_config.batch_size, num_workers=4, sampler=data_config.train_sampler\n",
    ")\n",
    "validation_loader = DataLoader(\n",
    "    fkdl, batch_size=model_config.batch_size, num_workers=4, sampler=data_config.validation_sampler\n",
    ")"
   ]
  },
  {
   "cell_type": "code",
   "execution_count": 9,
   "id": "9e50d45e",
   "metadata": {
    "scrolled": true
   },
   "outputs": [
    {
     "ename": "ValueError",
     "evalue": "cannot resize an array that references or is referenced\nby another array in this way.\nUse the np.resize function or refcheck=False",
     "output_type": "error",
     "traceback": [
      "\u001b[1;31m---------------------------------------------------------------------------\u001b[0m",
      "\u001b[1;31mValueError\u001b[0m                                Traceback (most recent call last)",
      "Cell \u001b[1;32mIn[9], line 1\u001b[0m\n\u001b[1;32m----> 1\u001b[0m \u001b[43mshow_key_points_on_images\u001b[49m\u001b[43m(\u001b[49m\u001b[43mdataset\u001b[49m\u001b[38;5;241;43m=\u001b[39;49m\u001b[43mfkdl\u001b[49m\u001b[43m,\u001b[49m\u001b[43m \u001b[49m\u001b[43midx\u001b[49m\u001b[38;5;241;43m=\u001b[39;49m\u001b[38;5;241;43m0\u001b[39;49m\u001b[43m)\u001b[49m\n",
      "File \u001b[1;32mc:\\users\\sankr\\documents\\projects\\git_work\\experiments\\src\\cv\\pytorch\\models\\use_cases\\facial_keypoint_detection\\utils.py:36\u001b[0m, in \u001b[0;36mshow_key_points_on_images\u001b[1;34m(dataset, idx)\u001b[0m\n\u001b[0;32m     28\u001b[0m \u001b[38;5;28;01mdef\u001b[39;00m \u001b[38;5;21mshow_key_points_on_images\u001b[39m(\n\u001b[0;32m     29\u001b[0m     dataset, \n\u001b[0;32m     30\u001b[0m     idx, \n\u001b[0;32m     31\u001b[0m ):\n\u001b[0;32m     32\u001b[0m     \u001b[38;5;124;03m\"\"\"\u001b[39;00m\n\u001b[0;32m     33\u001b[0m \u001b[38;5;124;03m    Function plots image and associated keypoint on the image for the input idx\u001b[39;00m\n\u001b[0;32m     34\u001b[0m \u001b[38;5;124;03m    \"\"\"\u001b[39;00m\n\u001b[1;32m---> 36\u001b[0m     sample \u001b[38;5;241m=\u001b[39m \u001b[43mdataset\u001b[49m\u001b[43m[\u001b[49m\u001b[43midx\u001b[49m\u001b[43m]\u001b[49m\n\u001b[0;32m     37\u001b[0m     plt\u001b[38;5;241m.\u001b[39mfigure()\n\u001b[0;32m     38\u001b[0m     plt\u001b[38;5;241m.\u001b[39mimshow(sample[\u001b[38;5;124m\"\u001b[39m\u001b[38;5;124mimage\u001b[39m\u001b[38;5;124m\"\u001b[39m], cmap\u001b[38;5;241m=\u001b[39m\u001b[38;5;124m'\u001b[39m\u001b[38;5;124mgray\u001b[39m\u001b[38;5;124m'\u001b[39m)\n",
      "File \u001b[1;32mc:\\users\\sankr\\documents\\projects\\git_work\\experiments\\src\\cv\\pytorch\\data_loader\\use_cases\\facial_keypoint_detection\\dataloader.py:121\u001b[0m, in \u001b[0;36mFacialKeypointDataLoader.__getitem__\u001b[1;34m(self, idx)\u001b[0m\n\u001b[0;32m    116\u001b[0m     keypoints \u001b[38;5;241m=\u001b[39m np\u001b[38;5;241m.\u001b[39masarray(\n\u001b[0;32m    117\u001b[0m         \u001b[38;5;28mself\u001b[39m\u001b[38;5;241m.\u001b[39mdataset\u001b[38;5;241m.\u001b[39mimage_labels\u001b[38;5;241m.\u001b[39miloc[idx, :])\u001b[38;5;241m.\u001b[39mastype(\u001b[38;5;124m'\u001b[39m\u001b[38;5;124mfloat\u001b[39m\u001b[38;5;124m'\u001b[39m)\u001b[38;5;241m.\u001b[39mreshape(\u001b[38;5;241m-\u001b[39m\u001b[38;5;241m1\u001b[39m, \u001b[38;5;241m2\u001b[39m)\n\u001b[0;32m    119\u001b[0m     sample \u001b[38;5;241m=\u001b[39m {\u001b[38;5;124m\"\u001b[39m\u001b[38;5;124mimage\u001b[39m\u001b[38;5;124m\"\u001b[39m: image, \u001b[38;5;124m\"\u001b[39m\u001b[38;5;124mfacial_landmarks\u001b[39m\u001b[38;5;124m\"\u001b[39m: keypoints}\n\u001b[1;32m--> 121\u001b[0m sample \u001b[38;5;241m=\u001b[39m \u001b[38;5;28;43mself\u001b[39;49m\u001b[38;5;241;43m.\u001b[39;49m\u001b[43mtransform\u001b[49m\u001b[43m(\u001b[49m\u001b[43msample\u001b[49m\u001b[43m)\u001b[49m\n\u001b[0;32m    122\u001b[0m \u001b[38;5;28;01mreturn\u001b[39;00m sample\n",
      "File \u001b[1;32m~\\miniconda3\\envs\\pytorch_cuda_test\\lib\\site-packages\\torchvision\\transforms\\transforms.py:95\u001b[0m, in \u001b[0;36mCompose.__call__\u001b[1;34m(self, img)\u001b[0m\n\u001b[0;32m     93\u001b[0m \u001b[38;5;28;01mdef\u001b[39;00m \u001b[38;5;21m__call__\u001b[39m(\u001b[38;5;28mself\u001b[39m, img):\n\u001b[0;32m     94\u001b[0m     \u001b[38;5;28;01mfor\u001b[39;00m t \u001b[38;5;129;01min\u001b[39;00m \u001b[38;5;28mself\u001b[39m\u001b[38;5;241m.\u001b[39mtransforms:\n\u001b[1;32m---> 95\u001b[0m         img \u001b[38;5;241m=\u001b[39m \u001b[43mt\u001b[49m\u001b[43m(\u001b[49m\u001b[43mimg\u001b[49m\u001b[43m)\u001b[49m\n\u001b[0;32m     96\u001b[0m     \u001b[38;5;28;01mreturn\u001b[39;00m img\n",
      "File \u001b[1;32mc:\\users\\sankr\\documents\\projects\\git_work\\experiments\\src\\cv\\pytorch\\data_loader\\use_cases\\facial_keypoint_detection\\transforms.py:93\u001b[0m, in \u001b[0;36mResize.__call__\u001b[1;34m(self, data)\u001b[0m\n\u001b[0;32m     91\u001b[0m \u001b[38;5;28;01melse\u001b[39;00m:\n\u001b[0;32m     92\u001b[0m     \u001b[38;5;28;01mif\u001b[39;00m \u001b[38;5;28misinstance\u001b[39m(\u001b[38;5;28mself\u001b[39m\u001b[38;5;241m.\u001b[39m_size, \u001b[38;5;28mint\u001b[39m):\n\u001b[1;32m---> 93\u001b[0m         \u001b[43mimage\u001b[49m\u001b[38;5;241;43m.\u001b[39;49m\u001b[43mresize\u001b[49m\u001b[43m(\u001b[49m\u001b[38;5;28;43mself\u001b[39;49m\u001b[38;5;241;43m.\u001b[39;49m\u001b[43m_size\u001b[49m\u001b[43m,\u001b[49m\u001b[43m \u001b[49m\u001b[38;5;28;43mself\u001b[39;49m\u001b[38;5;241;43m.\u001b[39;49m\u001b[43m_size\u001b[49m\u001b[43m,\u001b[49m\u001b[43m \u001b[49m\u001b[38;5;241;43m1\u001b[39;49m\u001b[43m)\u001b[49m\n\u001b[0;32m     94\u001b[0m     \u001b[38;5;28;01melse\u001b[39;00m:\n\u001b[0;32m     95\u001b[0m         image\u001b[38;5;241m.\u001b[39mresize(\u001b[38;5;28mself\u001b[39m\u001b[38;5;241m.\u001b[39m_size[\u001b[38;5;241m0\u001b[39m], \u001b[38;5;28mself\u001b[39m\u001b[38;5;241m.\u001b[39m_size[\u001b[38;5;241m1\u001b[39m], \u001b[38;5;241m1\u001b[39m)\n",
      "\u001b[1;31mValueError\u001b[0m: cannot resize an array that references or is referenced\nby another array in this way.\nUse the np.resize function or refcheck=False"
     ]
    }
   ],
   "source": [
    "show_key_points_on_images(dataset=fkdl, idx=0)"
   ]
  },
  {
   "cell_type": "code",
   "execution_count": null,
   "id": "65ff0410",
   "metadata": {},
   "outputs": [],
   "source": [
    "list_of_view = [fkdl[i] for i in range(50, 60)]"
   ]
  },
  {
   "cell_type": "code",
   "execution_count": null,
   "id": "94db11f4",
   "metadata": {},
   "outputs": [],
   "source": [
    "from src.cv.pytorch.models.use_cases.facial_keypoint_detection.utils import multi_view_image_keypoints\n"
   ]
  },
  {
   "cell_type": "code",
   "execution_count": null,
   "id": "a628e08a",
   "metadata": {},
   "outputs": [],
   "source": [
    "multi_view_image_keypoints(list_of_view)"
   ]
  },
  {
   "cell_type": "markdown",
   "id": "9249182e",
   "metadata": {},
   "source": [
    "#### Training the model"
   ]
  },
  {
   "cell_type": "code",
   "execution_count": null,
   "id": "4c746d42",
   "metadata": {},
   "outputs": [],
   "source": [
    "from src.cv.pytorch.models.use_cases.facial_keypoint_detection.facial_keypoint_vanilla_cnn import FacialKeypointVCNN"
   ]
  },
  {
   "cell_type": "code",
   "execution_count": 13,
   "id": "c7002e10",
   "metadata": {},
   "outputs": [
    {
     "ename": "TypeError",
     "evalue": "__init__() missing 2 required positional arguments: 'linear_layers' and 'dropout_threshold'",
     "output_type": "error",
     "traceback": [
      "\u001b[1;31m---------------------------------------------------------------------------\u001b[0m",
      "\u001b[1;31mTypeError\u001b[0m                                 Traceback (most recent call last)",
      "Cell \u001b[1;32mIn[13], line 5\u001b[0m\n\u001b[0;32m      3\u001b[0m output_channels \u001b[38;5;241m=\u001b[39m [\u001b[38;5;241m32\u001b[39m, \u001b[38;5;241m64\u001b[39m, \u001b[38;5;241m128\u001b[39m]\n\u001b[0;32m      4\u001b[0m kernel_sizes \u001b[38;5;241m=\u001b[39m [(\u001b[38;5;241m5\u001b[39m,\u001b[38;5;241m5\u001b[39m), (\u001b[38;5;241m3\u001b[39m,\u001b[38;5;241m3\u001b[39m), (\u001b[38;5;241m3\u001b[39m,\u001b[38;5;241m3\u001b[39m)]\n\u001b[1;32m----> 5\u001b[0m fk_vcnn \u001b[38;5;241m=\u001b[39m \u001b[43mFacialKeypointVCNN\u001b[49m\u001b[43m(\u001b[49m\u001b[43mcnn_layers\u001b[49m\u001b[43m,\u001b[49m\u001b[43m \u001b[49m\u001b[43minput_channels\u001b[49m\u001b[43m,\u001b[49m\u001b[43m \u001b[49m\u001b[43moutput_channels\u001b[49m\u001b[43m,\u001b[49m\u001b[43m \u001b[49m\u001b[43mkernel_sizes\u001b[49m\u001b[43m)\u001b[49m\u001b[38;5;241m.\u001b[39mto(device)\n\u001b[0;32m      7\u001b[0m \u001b[38;5;28mprint\u001b[39m(fk_vcnn)\n",
      "\u001b[1;31mTypeError\u001b[0m: __init__() missing 2 required positional arguments: 'linear_layers' and 'dropout_threshold'"
     ]
    }
   ],
   "source": [
    "cnn_layers = 3\n",
    "input_channels = 1\n",
    "output_channels = [32, 64, 96, 128, 512]\n",
    "kernel_sizes = [(5,5), (3,3), (3,3)]\n",
    "linear_layers = [512]\n",
    "fk_vcnn = FacialKeypointVCNN(cnn_layers, input_channels, output_channels, kernel_sizes).to(device)\n",
    "\n",
    "print(fk_vcnn)"
   ]
  },
  {
   "cell_type": "code",
   "execution_count": 15,
   "id": "16c43899",
   "metadata": {},
   "outputs": [],
   "source": [
    "def fit_model(n_epochs):\n",
    "        \n",
    "    fk_vcnn.train()\n",
    "    for epoch in range(n_epochs):  # loop over the dataset multiple times\n",
    "        running_loss = 0.0\n",
    "        for batch_i, data in enumerate(train_loader):\n",
    "            # get the input images and their corresponding labels\n",
    "            images = data['image'].to(device)\n",
    "            keypoints = data['facial_landmarks'].to(device)\n",
    "            # flatten pts\n",
    "            keypoints = keypoints.view(keypoints.size(0), -1)\n",
    "            # convert variables to floats for regression loss\n",
    "            keypoints = keypoints.type(torch.FloatTensor)\n",
    "            images = images.type(torch.FloatTensor)\n",
    "            # forward pass to get outputs\n",
    "            output_pts = fk_vcnn(images.to(device))\n",
    "            # calculate the loss between predicted and target keypoints\n",
    "            optimization_functions = fk_vcnn.initialize_optimization_parameters()\n",
    "            loss = optimization_functions[\"criterion\"](output_pts.to(device), keypoints.to(device))\n",
    "            # zero the parameter (weight) gradients\n",
    "            optimization_functions[\"optimizer\"].zero_grad()\n",
    "            # backward pass to calculate the weight gradients\n",
    "            loss.backward()\n",
    "            # update the weights\n",
    "            optimization_functions[\"optimizer\"].step()\n",
    "            # print loss statistics\n",
    "            running_loss += loss.item()\n",
    "\n",
    "            if batch_i % 10 == 6:    # print every 7 batches\n",
    "                print('Epoch: {}, Batch: {}, Avg. Loss: {}'.format(epoch + 1, batch_i+1, running_loss/10))\n",
    "                running_loss = 0.0\n",
    "    print('Finished Training')\n",
    "\n"
   ]
  },
  {
   "cell_type": "code",
   "execution_count": null,
   "id": "643c53a0",
   "metadata": {},
   "outputs": [
    {
     "name": "stdout",
     "output_type": "stream",
     "text": [
      "Input size before flattening: torch.Size([10, 128, 26, 26])\n",
      "Input size before flattening: torch.Size([10, 128, 26, 26])\n",
      "Input size before flattening: torch.Size([10, 128, 26, 26])\n",
      "Input size before flattening: torch.Size([10, 128, 26, 26])\n",
      "Input size before flattening: torch.Size([10, 128, 26, 26])\n",
      "Input size before flattening: torch.Size([10, 128, 26, 26])\n",
      "Input size before flattening: torch.Size([9, 128, 26, 26])\n",
      "Epoch: 1, Batch: 7, Avg. Loss: 9120.9943359375\n",
      "Input size before flattening: torch.Size([10, 128, 26, 26])\n",
      "Input size before flattening: torch.Size([10, 128, 26, 26])\n",
      "Input size before flattening: torch.Size([10, 128, 26, 26])\n",
      "Input size before flattening: torch.Size([10, 128, 26, 26])\n",
      "Input size before flattening: torch.Size([10, 128, 26, 26])\n",
      "Input size before flattening: torch.Size([10, 128, 26, 26])\n",
      "Input size before flattening: torch.Size([9, 128, 26, 26])\n",
      "Epoch: 2, Batch: 7, Avg. Loss: 2686.9764404296875\n",
      "Input size before flattening: torch.Size([10, 128, 26, 26])\n",
      "Input size before flattening: torch.Size([10, 128, 26, 26])\n",
      "Input size before flattening: torch.Size([10, 128, 26, 26])\n",
      "Input size before flattening: torch.Size([10, 128, 26, 26])\n",
      "Input size before flattening: torch.Size([10, 128, 26, 26])\n",
      "Input size before flattening: torch.Size([10, 128, 26, 26])\n",
      "Input size before flattening: torch.Size([9, 128, 26, 26])\n",
      "Epoch: 3, Batch: 7, Avg. Loss: 2391.35419921875\n",
      "Input size before flattening: torch.Size([10, 128, 26, 26])\n",
      "Input size before flattening: torch.Size([10, 128, 26, 26])\n",
      "Input size before flattening: torch.Size([10, 128, 26, 26])\n",
      "Input size before flattening: torch.Size([10, 128, 26, 26])\n",
      "Input size before flattening: torch.Size([10, 128, 26, 26])\n",
      "Input size before flattening: torch.Size([10, 128, 26, 26])\n",
      "Input size before flattening: torch.Size([9, 128, 26, 26])\n",
      "Epoch: 4, Batch: 7, Avg. Loss: 2387.54892578125\n",
      "Input size before flattening: torch.Size([10, 128, 26, 26])\n",
      "Input size before flattening: torch.Size([10, 128, 26, 26])\n",
      "Input size before flattening: torch.Size([10, 128, 26, 26])\n",
      "Input size before flattening: torch.Size([10, 128, 26, 26])\n",
      "Input size before flattening: torch.Size([10, 128, 26, 26])\n",
      "Input size before flattening: torch.Size([10, 128, 26, 26])\n",
      "Input size before flattening: torch.Size([9, 128, 26, 26])\n",
      "Epoch: 5, Batch: 7, Avg. Loss: 2128.3158325195313\n",
      "Input size before flattening: torch.Size([10, 128, 26, 26])\n",
      "Input size before flattening: torch.Size([10, 128, 26, 26])\n",
      "Input size before flattening: torch.Size([10, 128, 26, 26])\n",
      "Input size before flattening: torch.Size([10, 128, 26, 26])\n",
      "Input size before flattening: torch.Size([10, 128, 26, 26])\n",
      "Input size before flattening: torch.Size([10, 128, 26, 26])\n",
      "Input size before flattening: torch.Size([9, 128, 26, 26])\n",
      "Epoch: 6, Batch: 7, Avg. Loss: 2077.3695556640623\n",
      "Input size before flattening: torch.Size([10, 128, 26, 26])\n",
      "Input size before flattening: torch.Size([10, 128, 26, 26])\n",
      "Input size before flattening: torch.Size([10, 128, 26, 26])\n",
      "Input size before flattening: torch.Size([10, 128, 26, 26])\n",
      "Input size before flattening: torch.Size([10, 128, 26, 26])\n",
      "Input size before flattening: torch.Size([10, 128, 26, 26])\n",
      "Input size before flattening: torch.Size([9, 128, 26, 26])\n",
      "Epoch: 7, Batch: 7, Avg. Loss: 1928.9585693359375\n",
      "Input size before flattening: torch.Size([10, 128, 26, 26])\n",
      "Input size before flattening: torch.Size([10, 128, 26, 26])\n",
      "Input size before flattening: torch.Size([10, 128, 26, 26])\n",
      "Input size before flattening: torch.Size([10, 128, 26, 26])\n",
      "Input size before flattening: torch.Size([10, 128, 26, 26])\n",
      "Input size before flattening: torch.Size([10, 128, 26, 26])\n",
      "Input size before flattening: torch.Size([9, 128, 26, 26])\n",
      "Epoch: 8, Batch: 7, Avg. Loss: 1759.5279907226563\n",
      "Input size before flattening: torch.Size([10, 128, 26, 26])\n",
      "Input size before flattening: torch.Size([10, 128, 26, 26])\n",
      "Input size before flattening: torch.Size([10, 128, 26, 26])\n",
      "Input size before flattening: torch.Size([10, 128, 26, 26])\n",
      "Input size before flattening: torch.Size([10, 128, 26, 26])\n",
      "Input size before flattening: torch.Size([10, 128, 26, 26])\n",
      "Input size before flattening: torch.Size([9, 128, 26, 26])\n",
      "Epoch: 9, Batch: 7, Avg. Loss: 2382.7605224609374\n",
      "Input size before flattening: torch.Size([10, 128, 26, 26])\n",
      "Input size before flattening: torch.Size([10, 128, 26, 26])\n",
      "Input size before flattening: torch.Size([10, 128, 26, 26])\n",
      "Input size before flattening: torch.Size([10, 128, 26, 26])\n",
      "Input size before flattening: torch.Size([10, 128, 26, 26])\n",
      "Input size before flattening: torch.Size([10, 128, 26, 26])\n",
      "Input size before flattening: torch.Size([9, 128, 26, 26])\n",
      "Epoch: 10, Batch: 7, Avg. Loss: 1838.1984985351562\n",
      "Input size before flattening: torch.Size([10, 128, 26, 26])\n",
      "Input size before flattening: torch.Size([10, 128, 26, 26])\n",
      "Input size before flattening: torch.Size([10, 128, 26, 26])\n",
      "Input size before flattening: torch.Size([10, 128, 26, 26])\n",
      "Input size before flattening: torch.Size([10, 128, 26, 26])\n",
      "Input size before flattening: torch.Size([10, 128, 26, 26])\n",
      "Input size before flattening: torch.Size([9, 128, 26, 26])\n",
      "Epoch: 11, Batch: 7, Avg. Loss: 1893.5278442382812\n",
      "Input size before flattening: torch.Size([10, 128, 26, 26])\n",
      "Input size before flattening: torch.Size([10, 128, 26, 26])\n",
      "Input size before flattening: torch.Size([10, 128, 26, 26])\n",
      "Input size before flattening: torch.Size([10, 128, 26, 26])\n",
      "Input size before flattening: torch.Size([10, 128, 26, 26])\n",
      "Input size before flattening: torch.Size([10, 128, 26, 26])\n",
      "Input size before flattening: torch.Size([9, 128, 26, 26])\n",
      "Epoch: 12, Batch: 7, Avg. Loss: 1884.7734252929688\n",
      "Input size before flattening: torch.Size([10, 128, 26, 26])\n",
      "Input size before flattening: torch.Size([10, 128, 26, 26])\n",
      "Input size before flattening: torch.Size([10, 128, 26, 26])\n",
      "Input size before flattening: torch.Size([10, 128, 26, 26])\n",
      "Input size before flattening: torch.Size([10, 128, 26, 26])\n",
      "Input size before flattening: torch.Size([10, 128, 26, 26])\n",
      "Input size before flattening: torch.Size([9, 128, 26, 26])\n",
      "Epoch: 13, Batch: 7, Avg. Loss: 1739.11083984375\n",
      "Input size before flattening: torch.Size([10, 128, 26, 26])\n",
      "Input size before flattening: torch.Size([10, 128, 26, 26])\n",
      "Input size before flattening: torch.Size([10, 128, 26, 26])\n",
      "Input size before flattening: torch.Size([10, 128, 26, 26])\n",
      "Input size before flattening: torch.Size([10, 128, 26, 26])\n",
      "Input size before flattening: torch.Size([10, 128, 26, 26])\n",
      "Input size before flattening: torch.Size([9, 128, 26, 26])\n",
      "Epoch: 14, Batch: 7, Avg. Loss: 2071.31904296875\n",
      "Input size before flattening: torch.Size([10, 128, 26, 26])\n",
      "Input size before flattening: torch.Size([10, 128, 26, 26])\n",
      "Input size before flattening: torch.Size([10, 128, 26, 26])\n",
      "Input size before flattening: torch.Size([10, 128, 26, 26])\n",
      "Input size before flattening: torch.Size([10, 128, 26, 26])\n",
      "Input size before flattening: torch.Size([10, 128, 26, 26])\n",
      "Input size before flattening: torch.Size([9, 128, 26, 26])\n",
      "Epoch: 15, Batch: 7, Avg. Loss: 2478.5987060546877\n",
      "Input size before flattening: torch.Size([10, 128, 26, 26])\n",
      "Input size before flattening: torch.Size([10, 128, 26, 26])\n",
      "Input size before flattening: torch.Size([10, 128, 26, 26])\n",
      "Input size before flattening: torch.Size([10, 128, 26, 26])\n",
      "Input size before flattening: torch.Size([10, 128, 26, 26])\n",
      "Input size before flattening: torch.Size([10, 128, 26, 26])\n",
      "Input size before flattening: torch.Size([9, 128, 26, 26])\n",
      "Epoch: 16, Batch: 7, Avg. Loss: 1779.7482482910157\n",
      "Input size before flattening: torch.Size([10, 128, 26, 26])\n",
      "Input size before flattening: torch.Size([10, 128, 26, 26])\n",
      "Input size before flattening: torch.Size([10, 128, 26, 26])\n",
      "Input size before flattening: torch.Size([10, 128, 26, 26])\n",
      "Input size before flattening: torch.Size([10, 128, 26, 26])\n",
      "Input size before flattening: torch.Size([10, 128, 26, 26])\n",
      "Input size before flattening: torch.Size([9, 128, 26, 26])\n",
      "Epoch: 17, Batch: 7, Avg. Loss: 1989.5079711914063\n",
      "Input size before flattening: torch.Size([10, 128, 26, 26])\n",
      "Input size before flattening: torch.Size([10, 128, 26, 26])\n",
      "Input size before flattening: torch.Size([10, 128, 26, 26])\n",
      "Input size before flattening: torch.Size([10, 128, 26, 26])\n",
      "Input size before flattening: torch.Size([10, 128, 26, 26])\n",
      "Input size before flattening: torch.Size([10, 128, 26, 26])\n"
     ]
    },
    {
     "name": "stdout",
     "output_type": "stream",
     "text": [
      "Input size before flattening: torch.Size([9, 128, 26, 26])\n",
      "Epoch: 18, Batch: 7, Avg. Loss: 1658.7217041015624\n",
      "Input size before flattening: torch.Size([10, 128, 26, 26])\n",
      "Input size before flattening: torch.Size([10, 128, 26, 26])\n",
      "Input size before flattening: torch.Size([10, 128, 26, 26])\n",
      "Input size before flattening: torch.Size([10, 128, 26, 26])\n",
      "Input size before flattening: torch.Size([10, 128, 26, 26])\n",
      "Input size before flattening: torch.Size([10, 128, 26, 26])\n",
      "Input size before flattening: torch.Size([9, 128, 26, 26])\n",
      "Epoch: 19, Batch: 7, Avg. Loss: 1639.4047058105468\n",
      "Input size before flattening: torch.Size([10, 128, 26, 26])\n",
      "Input size before flattening: torch.Size([10, 128, 26, 26])\n",
      "Input size before flattening: torch.Size([10, 128, 26, 26])\n",
      "Input size before flattening: torch.Size([10, 128, 26, 26])\n",
      "Input size before flattening: torch.Size([10, 128, 26, 26])\n",
      "Input size before flattening: torch.Size([10, 128, 26, 26])\n",
      "Input size before flattening: torch.Size([9, 128, 26, 26])\n",
      "Epoch: 20, Batch: 7, Avg. Loss: 1826.9183349609375\n",
      "Input size before flattening: torch.Size([10, 128, 26, 26])\n",
      "Input size before flattening: torch.Size([10, 128, 26, 26])\n",
      "Input size before flattening: torch.Size([10, 128, 26, 26])\n",
      "Input size before flattening: torch.Size([10, 128, 26, 26])\n",
      "Input size before flattening: torch.Size([10, 128, 26, 26])\n",
      "Input size before flattening: torch.Size([10, 128, 26, 26])\n",
      "Input size before flattening: torch.Size([9, 128, 26, 26])\n",
      "Epoch: 21, Batch: 7, Avg. Loss: 1930.4933959960938\n",
      "Input size before flattening: torch.Size([10, 128, 26, 26])\n",
      "Input size before flattening: torch.Size([10, 128, 26, 26])\n",
      "Input size before flattening: torch.Size([10, 128, 26, 26])\n",
      "Input size before flattening: torch.Size([10, 128, 26, 26])\n",
      "Input size before flattening: torch.Size([10, 128, 26, 26])\n",
      "Input size before flattening: torch.Size([10, 128, 26, 26])\n",
      "Input size before flattening: torch.Size([9, 128, 26, 26])\n",
      "Epoch: 22, Batch: 7, Avg. Loss: 2332.033349609375\n",
      "Input size before flattening: torch.Size([10, 128, 26, 26])\n",
      "Input size before flattening: torch.Size([10, 128, 26, 26])\n",
      "Input size before flattening: torch.Size([10, 128, 26, 26])\n",
      "Input size before flattening: torch.Size([10, 128, 26, 26])\n",
      "Input size before flattening: torch.Size([10, 128, 26, 26])\n",
      "Input size before flattening: torch.Size([10, 128, 26, 26])\n",
      "Input size before flattening: torch.Size([9, 128, 26, 26])\n",
      "Epoch: 23, Batch: 7, Avg. Loss: 1688.0751098632813\n",
      "Input size before flattening: torch.Size([10, 128, 26, 26])\n",
      "Input size before flattening: torch.Size([10, 128, 26, 26])\n",
      "Input size before flattening: torch.Size([10, 128, 26, 26])\n",
      "Input size before flattening: torch.Size([10, 128, 26, 26])\n",
      "Input size before flattening: torch.Size([10, 128, 26, 26])\n",
      "Input size before flattening: torch.Size([10, 128, 26, 26])\n",
      "Input size before flattening: torch.Size([9, 128, 26, 26])\n",
      "Epoch: 24, Batch: 7, Avg. Loss: 1939.0046997070312\n",
      "Input size before flattening: torch.Size([10, 128, 26, 26])\n",
      "Input size before flattening: torch.Size([10, 128, 26, 26])\n",
      "Input size before flattening: torch.Size([10, 128, 26, 26])\n",
      "Input size before flattening: torch.Size([10, 128, 26, 26])\n",
      "Input size before flattening: torch.Size([10, 128, 26, 26])\n",
      "Input size before flattening: torch.Size([10, 128, 26, 26])\n",
      "Input size before flattening: torch.Size([9, 128, 26, 26])\n",
      "Epoch: 25, Batch: 7, Avg. Loss: 2111.6864990234376\n",
      "Input size before flattening: torch.Size([10, 128, 26, 26])\n",
      "Input size before flattening: torch.Size([10, 128, 26, 26])\n",
      "Input size before flattening: torch.Size([10, 128, 26, 26])\n",
      "Input size before flattening: torch.Size([10, 128, 26, 26])\n",
      "Input size before flattening: torch.Size([10, 128, 26, 26])\n",
      "Input size before flattening: torch.Size([10, 128, 26, 26])\n",
      "Input size before flattening: torch.Size([9, 128, 26, 26])\n",
      "Epoch: 26, Batch: 7, Avg. Loss: 2019.6990234375\n",
      "Input size before flattening: torch.Size([10, 128, 26, 26])\n",
      "Input size before flattening: torch.Size([10, 128, 26, 26])\n",
      "Input size before flattening: torch.Size([10, 128, 26, 26])\n",
      "Input size before flattening: torch.Size([10, 128, 26, 26])\n",
      "Input size before flattening: torch.Size([10, 128, 26, 26])\n",
      "Input size before flattening: torch.Size([10, 128, 26, 26])\n",
      "Input size before flattening: torch.Size([9, 128, 26, 26])\n",
      "Epoch: 27, Batch: 7, Avg. Loss: 1634.5024047851562\n",
      "Input size before flattening: torch.Size([10, 128, 26, 26])\n",
      "Input size before flattening: torch.Size([10, 128, 26, 26])\n",
      "Input size before flattening: torch.Size([10, 128, 26, 26])\n",
      "Input size before flattening: torch.Size([10, 128, 26, 26])\n",
      "Input size before flattening: torch.Size([10, 128, 26, 26])\n",
      "Input size before flattening: torch.Size([10, 128, 26, 26])\n",
      "Input size before flattening: torch.Size([9, 128, 26, 26])\n",
      "Epoch: 28, Batch: 7, Avg. Loss: 1966.8956909179688\n",
      "Input size before flattening: torch.Size([10, 128, 26, 26])\n",
      "Input size before flattening: torch.Size([10, 128, 26, 26])\n",
      "Input size before flattening: torch.Size([10, 128, 26, 26])\n",
      "Input size before flattening: torch.Size([10, 128, 26, 26])\n",
      "Input size before flattening: torch.Size([10, 128, 26, 26])\n",
      "Input size before flattening: torch.Size([10, 128, 26, 26])\n",
      "Input size before flattening: torch.Size([9, 128, 26, 26])\n",
      "Epoch: 29, Batch: 7, Avg. Loss: 2124.8591430664064\n",
      "Input size before flattening: torch.Size([10, 128, 26, 26])\n",
      "Input size before flattening: torch.Size([10, 128, 26, 26])\n",
      "Input size before flattening: torch.Size([10, 128, 26, 26])\n",
      "Input size before flattening: torch.Size([10, 128, 26, 26])\n",
      "Input size before flattening: torch.Size([10, 128, 26, 26])\n",
      "Input size before flattening: torch.Size([10, 128, 26, 26])\n",
      "Input size before flattening: torch.Size([9, 128, 26, 26])\n",
      "Epoch: 30, Batch: 7, Avg. Loss: 2142.8401489257812\n",
      "Input size before flattening: torch.Size([10, 128, 26, 26])\n",
      "Input size before flattening: torch.Size([10, 128, 26, 26])\n",
      "Input size before flattening: torch.Size([10, 128, 26, 26])\n",
      "Input size before flattening: torch.Size([10, 128, 26, 26])\n",
      "Input size before flattening: torch.Size([10, 128, 26, 26])\n",
      "Input size before flattening: torch.Size([10, 128, 26, 26])\n",
      "Input size before flattening: torch.Size([9, 128, 26, 26])\n",
      "Epoch: 31, Batch: 7, Avg. Loss: 1920.8494995117187\n",
      "Input size before flattening: torch.Size([10, 128, 26, 26])\n",
      "Input size before flattening: torch.Size([10, 128, 26, 26])\n",
      "Input size before flattening: torch.Size([10, 128, 26, 26])\n",
      "Input size before flattening: torch.Size([10, 128, 26, 26])\n",
      "Input size before flattening: torch.Size([10, 128, 26, 26])\n",
      "Input size before flattening: torch.Size([10, 128, 26, 26])\n",
      "Input size before flattening: torch.Size([9, 128, 26, 26])\n",
      "Epoch: 32, Batch: 7, Avg. Loss: 2053.482287597656\n",
      "Input size before flattening: torch.Size([10, 128, 26, 26])\n",
      "Input size before flattening: torch.Size([10, 128, 26, 26])\n",
      "Input size before flattening: torch.Size([10, 128, 26, 26])\n",
      "Input size before flattening: torch.Size([10, 128, 26, 26])\n",
      "Input size before flattening: torch.Size([10, 128, 26, 26])\n",
      "Input size before flattening: torch.Size([10, 128, 26, 26])\n",
      "Input size before flattening: torch.Size([9, 128, 26, 26])\n",
      "Epoch: 33, Batch: 7, Avg. Loss: 2172.6018798828127\n",
      "Input size before flattening: torch.Size([10, 128, 26, 26])\n",
      "Input size before flattening: torch.Size([10, 128, 26, 26])\n",
      "Input size before flattening: torch.Size([10, 128, 26, 26])\n",
      "Input size before flattening: torch.Size([10, 128, 26, 26])\n",
      "Input size before flattening: torch.Size([10, 128, 26, 26])\n",
      "Input size before flattening: torch.Size([10, 128, 26, 26])\n",
      "Input size before flattening: torch.Size([9, 128, 26, 26])\n",
      "Epoch: 34, Batch: 7, Avg. Loss: 1659.6895629882813\n",
      "Input size before flattening: torch.Size([10, 128, 26, 26])\n",
      "Input size before flattening: torch.Size([10, 128, 26, 26])\n",
      "Input size before flattening: torch.Size([10, 128, 26, 26])\n",
      "Input size before flattening: torch.Size([10, 128, 26, 26])\n",
      "Input size before flattening: torch.Size([10, 128, 26, 26])\n",
      "Input size before flattening: torch.Size([10, 128, 26, 26])\n",
      "Input size before flattening: torch.Size([9, 128, 26, 26])\n",
      "Epoch: 35, Batch: 7, Avg. Loss: 1938.6260375976562\n",
      "Input size before flattening: torch.Size([10, 128, 26, 26])\n",
      "Input size before flattening: torch.Size([10, 128, 26, 26])\n",
      "Input size before flattening: torch.Size([10, 128, 26, 26])\n",
      "Input size before flattening: torch.Size([10, 128, 26, 26])\n",
      "Input size before flattening: torch.Size([10, 128, 26, 26])\n",
      "Input size before flattening: torch.Size([10, 128, 26, 26])\n"
     ]
    },
    {
     "name": "stdout",
     "output_type": "stream",
     "text": [
      "Input size before flattening: torch.Size([9, 128, 26, 26])\n",
      "Epoch: 36, Batch: 7, Avg. Loss: 2298.2150024414063\n",
      "Input size before flattening: torch.Size([10, 128, 26, 26])\n",
      "Input size before flattening: torch.Size([10, 128, 26, 26])\n",
      "Input size before flattening: torch.Size([10, 128, 26, 26])\n",
      "Input size before flattening: torch.Size([10, 128, 26, 26])\n",
      "Input size before flattening: torch.Size([10, 128, 26, 26])\n",
      "Input size before flattening: torch.Size([10, 128, 26, 26])\n",
      "Input size before flattening: torch.Size([9, 128, 26, 26])\n",
      "Epoch: 37, Batch: 7, Avg. Loss: 1831.3736938476563\n",
      "Input size before flattening: torch.Size([10, 128, 26, 26])\n",
      "Input size before flattening: torch.Size([10, 128, 26, 26])\n",
      "Input size before flattening: torch.Size([10, 128, 26, 26])\n",
      "Input size before flattening: torch.Size([10, 128, 26, 26])\n",
      "Input size before flattening: torch.Size([10, 128, 26, 26])\n",
      "Input size before flattening: torch.Size([10, 128, 26, 26])\n",
      "Input size before flattening: torch.Size([9, 128, 26, 26])\n",
      "Epoch: 38, Batch: 7, Avg. Loss: 2066.562841796875\n",
      "Input size before flattening: torch.Size([10, 128, 26, 26])\n",
      "Input size before flattening: torch.Size([10, 128, 26, 26])\n",
      "Input size before flattening: torch.Size([10, 128, 26, 26])\n",
      "Input size before flattening: torch.Size([10, 128, 26, 26])\n",
      "Input size before flattening: torch.Size([10, 128, 26, 26])\n",
      "Input size before flattening: torch.Size([10, 128, 26, 26])\n",
      "Input size before flattening: torch.Size([9, 128, 26, 26])\n",
      "Epoch: 39, Batch: 7, Avg. Loss: 1669.617138671875\n",
      "Input size before flattening: torch.Size([10, 128, 26, 26])\n",
      "Input size before flattening: torch.Size([10, 128, 26, 26])\n",
      "Input size before flattening: torch.Size([10, 128, 26, 26])\n",
      "Input size before flattening: torch.Size([10, 128, 26, 26])\n",
      "Input size before flattening: torch.Size([10, 128, 26, 26])\n",
      "Input size before flattening: torch.Size([10, 128, 26, 26])\n",
      "Input size before flattening: torch.Size([9, 128, 26, 26])\n",
      "Epoch: 40, Batch: 7, Avg. Loss: 1512.2993041992188\n",
      "Input size before flattening: torch.Size([10, 128, 26, 26])\n",
      "Input size before flattening: torch.Size([10, 128, 26, 26])\n",
      "Input size before flattening: torch.Size([10, 128, 26, 26])\n",
      "Input size before flattening: torch.Size([10, 128, 26, 26])\n",
      "Input size before flattening: torch.Size([10, 128, 26, 26])\n",
      "Input size before flattening: torch.Size([10, 128, 26, 26])\n",
      "Input size before flattening: torch.Size([9, 128, 26, 26])\n",
      "Epoch: 41, Batch: 7, Avg. Loss: 1905.633740234375\n",
      "Input size before flattening: torch.Size([10, 128, 26, 26])\n",
      "Input size before flattening: torch.Size([10, 128, 26, 26])\n",
      "Input size before flattening: torch.Size([10, 128, 26, 26])\n",
      "Input size before flattening: torch.Size([10, 128, 26, 26])\n",
      "Input size before flattening: torch.Size([10, 128, 26, 26])\n",
      "Input size before flattening: torch.Size([10, 128, 26, 26])\n",
      "Input size before flattening: torch.Size([9, 128, 26, 26])\n",
      "Epoch: 42, Batch: 7, Avg. Loss: 2416.6483642578123\n",
      "Input size before flattening: torch.Size([10, 128, 26, 26])\n",
      "Input size before flattening: torch.Size([10, 128, 26, 26])\n",
      "Input size before flattening: torch.Size([10, 128, 26, 26])\n",
      "Input size before flattening: torch.Size([10, 128, 26, 26])\n",
      "Input size before flattening: torch.Size([10, 128, 26, 26])\n",
      "Input size before flattening: torch.Size([10, 128, 26, 26])\n",
      "Input size before flattening: torch.Size([9, 128, 26, 26])\n",
      "Epoch: 43, Batch: 7, Avg. Loss: 1752.6164306640626\n",
      "Input size before flattening: torch.Size([10, 128, 26, 26])\n",
      "Input size before flattening: torch.Size([10, 128, 26, 26])\n",
      "Input size before flattening: torch.Size([10, 128, 26, 26])\n",
      "Input size before flattening: torch.Size([10, 128, 26, 26])\n",
      "Input size before flattening: torch.Size([10, 128, 26, 26])\n",
      "Input size before flattening: torch.Size([10, 128, 26, 26])\n",
      "Input size before flattening: torch.Size([9, 128, 26, 26])\n",
      "Epoch: 44, Batch: 7, Avg. Loss: 1656.3124389648438\n",
      "Input size before flattening: torch.Size([10, 128, 26, 26])\n",
      "Input size before flattening: torch.Size([10, 128, 26, 26])\n",
      "Input size before flattening: torch.Size([10, 128, 26, 26])\n",
      "Input size before flattening: torch.Size([10, 128, 26, 26])\n",
      "Input size before flattening: torch.Size([10, 128, 26, 26])\n",
      "Input size before flattening: torch.Size([10, 128, 26, 26])\n",
      "Input size before flattening: torch.Size([9, 128, 26, 26])\n",
      "Epoch: 45, Batch: 7, Avg. Loss: 2259.8673095703125\n",
      "Input size before flattening: torch.Size([10, 128, 26, 26])\n",
      "Input size before flattening: torch.Size([10, 128, 26, 26])\n",
      "Input size before flattening: torch.Size([10, 128, 26, 26])\n",
      "Input size before flattening: torch.Size([10, 128, 26, 26])\n",
      "Input size before flattening: torch.Size([10, 128, 26, 26])\n",
      "Input size before flattening: torch.Size([10, 128, 26, 26])\n",
      "Input size before flattening: torch.Size([9, 128, 26, 26])\n",
      "Epoch: 46, Batch: 7, Avg. Loss: 1734.4904663085938\n",
      "Input size before flattening: torch.Size([10, 128, 26, 26])\n",
      "Input size before flattening: torch.Size([10, 128, 26, 26])\n",
      "Input size before flattening: torch.Size([10, 128, 26, 26])\n",
      "Input size before flattening: torch.Size([10, 128, 26, 26])\n",
      "Input size before flattening: torch.Size([10, 128, 26, 26])\n",
      "Input size before flattening: torch.Size([10, 128, 26, 26])\n",
      "Input size before flattening: torch.Size([9, 128, 26, 26])\n",
      "Epoch: 47, Batch: 7, Avg. Loss: 1612.7246337890624\n",
      "Input size before flattening: torch.Size([10, 128, 26, 26])\n",
      "Input size before flattening: torch.Size([10, 128, 26, 26])\n",
      "Input size before flattening: torch.Size([10, 128, 26, 26])\n",
      "Input size before flattening: torch.Size([10, 128, 26, 26])\n",
      "Input size before flattening: torch.Size([10, 128, 26, 26])\n",
      "Input size before flattening: torch.Size([10, 128, 26, 26])\n",
      "Input size before flattening: torch.Size([9, 128, 26, 26])\n",
      "Epoch: 48, Batch: 7, Avg. Loss: 1614.2272338867188\n",
      "Input size before flattening: torch.Size([10, 128, 26, 26])\n",
      "Input size before flattening: torch.Size([10, 128, 26, 26])\n",
      "Input size before flattening: torch.Size([10, 128, 26, 26])\n",
      "Input size before flattening: torch.Size([10, 128, 26, 26])\n",
      "Input size before flattening: torch.Size([10, 128, 26, 26])\n",
      "Input size before flattening: torch.Size([10, 128, 26, 26])\n",
      "Input size before flattening: torch.Size([9, 128, 26, 26])\n",
      "Epoch: 49, Batch: 7, Avg. Loss: 1801.5197143554688\n",
      "Input size before flattening: torch.Size([10, 128, 26, 26])\n",
      "Input size before flattening: torch.Size([10, 128, 26, 26])\n",
      "Input size before flattening: torch.Size([10, 128, 26, 26])\n",
      "Input size before flattening: torch.Size([10, 128, 26, 26])\n",
      "Input size before flattening: torch.Size([10, 128, 26, 26])\n",
      "Input size before flattening: torch.Size([10, 128, 26, 26])\n",
      "Input size before flattening: torch.Size([9, 128, 26, 26])\n",
      "Epoch: 50, Batch: 7, Avg. Loss: 2106.38623046875\n",
      "Input size before flattening: torch.Size([10, 128, 26, 26])\n",
      "Input size before flattening: torch.Size([10, 128, 26, 26])\n",
      "Input size before flattening: torch.Size([10, 128, 26, 26])\n",
      "Input size before flattening: torch.Size([10, 128, 26, 26])\n",
      "Input size before flattening: torch.Size([10, 128, 26, 26])\n",
      "Input size before flattening: torch.Size([10, 128, 26, 26])\n",
      "Input size before flattening: torch.Size([9, 128, 26, 26])\n",
      "Epoch: 51, Batch: 7, Avg. Loss: 1803.9698486328125\n",
      "Input size before flattening: torch.Size([10, 128, 26, 26])\n",
      "Input size before flattening: torch.Size([10, 128, 26, 26])\n",
      "Input size before flattening: torch.Size([10, 128, 26, 26])\n",
      "Input size before flattening: torch.Size([10, 128, 26, 26])\n",
      "Input size before flattening: torch.Size([10, 128, 26, 26])\n",
      "Input size before flattening: torch.Size([10, 128, 26, 26])\n",
      "Input size before flattening: torch.Size([9, 128, 26, 26])\n",
      "Epoch: 52, Batch: 7, Avg. Loss: 1839.932666015625\n",
      "Input size before flattening: torch.Size([10, 128, 26, 26])\n",
      "Input size before flattening: torch.Size([10, 128, 26, 26])\n",
      "Input size before flattening: torch.Size([10, 128, 26, 26])\n",
      "Input size before flattening: torch.Size([10, 128, 26, 26])\n",
      "Input size before flattening: torch.Size([10, 128, 26, 26])\n",
      "Input size before flattening: torch.Size([10, 128, 26, 26])\n",
      "Input size before flattening: torch.Size([9, 128, 26, 26])\n",
      "Epoch: 53, Batch: 7, Avg. Loss: 1915.0534423828126\n",
      "Input size before flattening: torch.Size([10, 128, 26, 26])\n",
      "Input size before flattening: torch.Size([10, 128, 26, 26])\n",
      "Input size before flattening: torch.Size([10, 128, 26, 26])\n",
      "Input size before flattening: torch.Size([10, 128, 26, 26])\n",
      "Input size before flattening: torch.Size([10, 128, 26, 26])\n",
      "Input size before flattening: torch.Size([10, 128, 26, 26])\n"
     ]
    },
    {
     "name": "stdout",
     "output_type": "stream",
     "text": [
      "Input size before flattening: torch.Size([9, 128, 26, 26])\n",
      "Epoch: 54, Batch: 7, Avg. Loss: 1643.1319580078125\n",
      "Input size before flattening: torch.Size([10, 128, 26, 26])\n",
      "Input size before flattening: torch.Size([10, 128, 26, 26])\n",
      "Input size before flattening: torch.Size([10, 128, 26, 26])\n",
      "Input size before flattening: torch.Size([10, 128, 26, 26])\n",
      "Input size before flattening: torch.Size([10, 128, 26, 26])\n",
      "Input size before flattening: torch.Size([10, 128, 26, 26])\n",
      "Input size before flattening: torch.Size([9, 128, 26, 26])\n",
      "Epoch: 55, Batch: 7, Avg. Loss: 1847.9797119140626\n",
      "Input size before flattening: torch.Size([10, 128, 26, 26])\n",
      "Input size before flattening: torch.Size([10, 128, 26, 26])\n",
      "Input size before flattening: torch.Size([10, 128, 26, 26])\n",
      "Input size before flattening: torch.Size([10, 128, 26, 26])\n",
      "Input size before flattening: torch.Size([10, 128, 26, 26])\n",
      "Input size before flattening: torch.Size([10, 128, 26, 26])\n",
      "Input size before flattening: torch.Size([9, 128, 26, 26])\n",
      "Epoch: 56, Batch: 7, Avg. Loss: 1594.3772827148437\n",
      "Input size before flattening: torch.Size([10, 128, 26, 26])\n",
      "Input size before flattening: torch.Size([10, 128, 26, 26])\n",
      "Input size before flattening: torch.Size([10, 128, 26, 26])\n",
      "Input size before flattening: torch.Size([10, 128, 26, 26])\n",
      "Input size before flattening: torch.Size([10, 128, 26, 26])\n",
      "Input size before flattening: torch.Size([10, 128, 26, 26])\n",
      "Input size before flattening: torch.Size([9, 128, 26, 26])\n",
      "Epoch: 57, Batch: 7, Avg. Loss: 2217.4442626953123\n",
      "Input size before flattening: torch.Size([10, 128, 26, 26])\n",
      "Input size before flattening: torch.Size([10, 128, 26, 26])\n",
      "Input size before flattening: torch.Size([10, 128, 26, 26])\n",
      "Input size before flattening: torch.Size([10, 128, 26, 26])\n",
      "Input size before flattening: torch.Size([10, 128, 26, 26])\n",
      "Input size before flattening: torch.Size([10, 128, 26, 26])\n",
      "Input size before flattening: torch.Size([9, 128, 26, 26])\n",
      "Epoch: 58, Batch: 7, Avg. Loss: 1843.234423828125\n",
      "Input size before flattening: torch.Size([10, 128, 26, 26])\n",
      "Input size before flattening: torch.Size([10, 128, 26, 26])\n",
      "Input size before flattening: torch.Size([10, 128, 26, 26])\n",
      "Input size before flattening: torch.Size([10, 128, 26, 26])\n",
      "Input size before flattening: torch.Size([10, 128, 26, 26])\n",
      "Input size before flattening: torch.Size([10, 128, 26, 26])\n",
      "Input size before flattening: torch.Size([9, 128, 26, 26])\n",
      "Epoch: 59, Batch: 7, Avg. Loss: 1739.9875854492188\n",
      "Input size before flattening: torch.Size([10, 128, 26, 26])\n",
      "Input size before flattening: torch.Size([10, 128, 26, 26])\n",
      "Input size before flattening: torch.Size([10, 128, 26, 26])\n",
      "Input size before flattening: torch.Size([10, 128, 26, 26])\n",
      "Input size before flattening: torch.Size([10, 128, 26, 26])\n",
      "Input size before flattening: torch.Size([10, 128, 26, 26])\n",
      "Input size before flattening: torch.Size([9, 128, 26, 26])\n",
      "Epoch: 60, Batch: 7, Avg. Loss: 1327.787353515625\n",
      "Input size before flattening: torch.Size([10, 128, 26, 26])\n",
      "Input size before flattening: torch.Size([10, 128, 26, 26])\n",
      "Input size before flattening: torch.Size([10, 128, 26, 26])\n",
      "Input size before flattening: torch.Size([10, 128, 26, 26])\n",
      "Input size before flattening: torch.Size([10, 128, 26, 26])\n",
      "Input size before flattening: torch.Size([10, 128, 26, 26])\n",
      "Input size before flattening: torch.Size([9, 128, 26, 26])\n",
      "Epoch: 61, Batch: 7, Avg. Loss: 1728.6751098632812\n",
      "Input size before flattening: torch.Size([10, 128, 26, 26])\n",
      "Input size before flattening: torch.Size([10, 128, 26, 26])\n",
      "Input size before flattening: torch.Size([10, 128, 26, 26])\n",
      "Input size before flattening: torch.Size([10, 128, 26, 26])\n",
      "Input size before flattening: torch.Size([10, 128, 26, 26])\n",
      "Input size before flattening: torch.Size([10, 128, 26, 26])\n",
      "Input size before flattening: torch.Size([9, 128, 26, 26])\n",
      "Epoch: 62, Batch: 7, Avg. Loss: 1637.4060424804688\n"
     ]
    }
   ],
   "source": [
    "fit_model(100)"
   ]
  },
  {
   "cell_type": "code",
   "execution_count": null,
   "id": "432d703e",
   "metadata": {},
   "outputs": [],
   "source": []
  }
 ],
 "metadata": {
  "kernelspec": {
   "display_name": "Python 3 (ipykernel)",
   "language": "python",
   "name": "python3"
  },
  "language_info": {
   "codemirror_mode": {
    "name": "ipython",
    "version": 3
   },
   "file_extension": ".py",
   "mimetype": "text/x-python",
   "name": "python",
   "nbconvert_exporter": "python",
   "pygments_lexer": "ipython3",
   "version": "3.9.15"
  }
 },
 "nbformat": 4,
 "nbformat_minor": 5
}
