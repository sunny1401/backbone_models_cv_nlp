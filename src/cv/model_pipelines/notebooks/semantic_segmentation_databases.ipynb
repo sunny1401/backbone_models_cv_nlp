{
 "cells": [
  {
   "cell_type": "markdown",
   "id": "f17d889e",
   "metadata": {},
   "source": [
    "#### Download dataset from kaggle for now"
   ]
  },
  {
   "cell_type": "raw",
   "id": "2862ebd9",
   "metadata": {},
   "source": [
    "from kaggle_cli_wrapper import KaggleDataApi"
   ]
  },
  {
   "cell_type": "raw",
   "id": "c76f733e",
   "metadata": {},
   "source": [
    "from src import CURRENT_ROOT_DIR"
   ]
  },
  {
   "cell_type": "raw",
   "id": "9ef4fd7a",
   "metadata": {},
   "source": [
    "kda = KaggleDataApi(call_path = CURRENT_ROOT_DIR)"
   ]
  },
  {
   "cell_type": "raw",
   "id": "4228fb3c",
   "metadata": {},
   "source": [
    "kda.download_kaggle_dataset(dataset_name=\"cityscapes_train_val_test\", is_competition_dataset=False)"
   ]
  },
  {
   "cell_type": "markdown",
   "id": "542a7e74",
   "metadata": {},
   "source": [
    "#### Dataset Cityscape"
   ]
  },
  {
   "cell_type": "code",
   "execution_count": 1,
   "id": "694e593c",
   "metadata": {},
   "outputs": [],
   "source": [
    "from src.cv.pytorch.datasets.segmentation.cityscapes import CityScapeSegmentationDataset\n",
    "from src.cv.pytorch.datasets.segmentation.transforms import ToTensor, Resize, GaussianBlur"
   ]
  },
  {
   "cell_type": "code",
   "execution_count": 2,
   "id": "ff29dc43",
   "metadata": {},
   "outputs": [],
   "source": [
    "from torchvision import transforms\n",
    "data_prep_train_transforms = transforms.Compose([\n",
    "    ToTensor(),\n",
    "    Resize((512, 700)),\n",
    "    GaussianBlur(5),\n",
    "])\n",
    "\n",
    "data_prep_test_transforms = transforms.Compose([\n",
    "        ToTensor(),\n",
    "        Resize((512, 700)),\n",
    "    ]\n",
    ")\n"
   ]
  },
  {
   "cell_type": "code",
   "execution_count": 3,
   "id": "66442853",
   "metadata": {},
   "outputs": [],
   "source": [
    "cityscape_train = CityScapeSegmentationDataset(\n",
    "    dataset_name=\"cityscapes\",\n",
    "    img_dir=\"data/cityscapes/\",\n",
    "    transforms=data_prep_train_transforms,\n",
    "    split_type=\"train\"\n",
    ")"
   ]
  },
  {
   "cell_type": "code",
   "execution_count": 4,
   "id": "8c51e08c",
   "metadata": {},
   "outputs": [],
   "source": [
    "cityscape_test = CityScapeSegmentationDataset(\n",
    "    dataset_name=\"cityscapes\",\n",
    "    img_dir=\"data/cityscapes/\",\n",
    "    transforms=data_prep_test_transforms,\n",
    "    split_type=\"val\"\n",
    ")"
   ]
  },
  {
   "cell_type": "code",
   "execution_count": 5,
   "id": "943c7abc",
   "metadata": {},
   "outputs": [],
   "source": [
    "from src.cv.pytorch.datasets.segmentation.utils import show_image_label_side_by_side"
   ]
  },
  {
   "cell_type": "code",
   "execution_count": 6,
   "id": "222e45ea",
   "metadata": {},
   "outputs": [
    {
     "ename": "TypeError",
     "evalue": "transpose() received an invalid combination of arguments - got (list), but expected one of:\n * (int dim0, int dim1)\n * (name dim0, name dim1)\n",
     "output_type": "error",
     "traceback": [
      "\u001b[1;31m---------------------------------------------------------------------------\u001b[0m",
      "\u001b[1;31mTypeError\u001b[0m                                 Traceback (most recent call last)",
      "Cell \u001b[1;32mIn[6], line 1\u001b[0m\n\u001b[1;32m----> 1\u001b[0m \u001b[43mshow_image_label_side_by_side\u001b[49m\u001b[43m(\u001b[49m\u001b[43mcityscape_train\u001b[49m\u001b[43m,\u001b[49m\u001b[43m \u001b[49m\u001b[38;5;241;43m0\u001b[39;49m\u001b[43m)\u001b[49m\n",
      "File \u001b[1;32mc:\\users\\sankr\\documents\\projects\\git_work\\experiments_cv_nlp\\src\\cv\\pytorch\\datasets\\segmentation\\utils.py:18\u001b[0m, in \u001b[0;36mshow_image_label_side_by_side\u001b[1;34m(dataset, idx)\u001b[0m\n\u001b[0;32m     15\u001b[0m sample \u001b[38;5;241m=\u001b[39m dataset[idx]\n\u001b[0;32m     17\u001b[0m image, labels \u001b[38;5;241m=\u001b[39m sample[\u001b[38;5;124m\"\u001b[39m\u001b[38;5;124mimage\u001b[39m\u001b[38;5;124m\"\u001b[39m], sample[\u001b[38;5;124m\"\u001b[39m\u001b[38;5;124mlabel\u001b[39m\u001b[38;5;124m\"\u001b[39m]\n\u001b[1;32m---> 18\u001b[0m io\u001b[38;5;241m.\u001b[39mimshow(\u001b[43mcolor\u001b[49m\u001b[38;5;241;43m.\u001b[39;49m\u001b[43mlabel2rgb\u001b[49m\u001b[43m(\u001b[49m\u001b[43mlabels\u001b[49m\u001b[38;5;241;43m.\u001b[39;49m\u001b[43mpermute\u001b[49m\u001b[43m(\u001b[49m\u001b[38;5;241;43m1\u001b[39;49m\u001b[43m,\u001b[49m\u001b[43m \u001b[49m\u001b[38;5;241;43m2\u001b[39;49m\u001b[43m,\u001b[49m\u001b[43m \u001b[49m\u001b[38;5;241;43m0\u001b[39;49m\u001b[43m)\u001b[49m\u001b[43m,\u001b[49m\u001b[43m \u001b[49m\u001b[43mimage\u001b[49m\u001b[38;5;241;43m.\u001b[39;49m\u001b[43mpermute\u001b[49m\u001b[43m(\u001b[49m\u001b[38;5;241;43m1\u001b[39;49m\u001b[43m,\u001b[49m\u001b[43m \u001b[49m\u001b[38;5;241;43m2\u001b[39;49m\u001b[43m,\u001b[49m\u001b[43m \u001b[49m\u001b[38;5;241;43m0\u001b[39;49m\u001b[43m)\u001b[49m\u001b[43m)\u001b[49m)\n\u001b[0;32m     19\u001b[0m _, ax \u001b[38;5;241m=\u001b[39m plt\u001b[38;5;241m.\u001b[39msubplots(\u001b[38;5;241m1\u001b[39m,\u001b[38;5;241m2\u001b[39m)\n\u001b[0;32m     20\u001b[0m ax[\u001b[38;5;241m0\u001b[39m]\u001b[38;5;241m.\u001b[39mimshow(image\u001b[38;5;241m.\u001b[39mpermute(\u001b[38;5;241m1\u001b[39m, \u001b[38;5;241m2\u001b[39m, \u001b[38;5;241m0\u001b[39m))\n",
      "File \u001b[1;32m~\\miniconda3\\envs\\pytorch_cuda_test\\lib\\site-packages\\skimage\\color\\colorlabel.py:126\u001b[0m, in \u001b[0;36mlabel2rgb\u001b[1;34m(label, image, colors, alpha, bg_label, bg_color, image_alpha, kind, saturation, channel_axis)\u001b[0m\n\u001b[0;32m     77\u001b[0m \u001b[38;5;124;03m\"\"\"Return an RGB image where color-coded labels are painted over the image.\u001b[39;00m\n\u001b[0;32m     78\u001b[0m \n\u001b[0;32m     79\u001b[0m \u001b[38;5;124;03mParameters\u001b[39;00m\n\u001b[1;32m   (...)\u001b[0m\n\u001b[0;32m    123\u001b[0m \u001b[38;5;124;03m    value in `label` with the image, at a certain alpha value.\u001b[39;00m\n\u001b[0;32m    124\u001b[0m \u001b[38;5;124;03m\"\"\"\u001b[39;00m\n\u001b[0;32m    125\u001b[0m \u001b[38;5;28;01mif\u001b[39;00m image \u001b[38;5;129;01mis\u001b[39;00m \u001b[38;5;129;01mnot\u001b[39;00m \u001b[38;5;28;01mNone\u001b[39;00m:\n\u001b[1;32m--> 126\u001b[0m     image \u001b[38;5;241m=\u001b[39m \u001b[43mnp\u001b[49m\u001b[38;5;241;43m.\u001b[39;49m\u001b[43mmoveaxis\u001b[49m\u001b[43m(\u001b[49m\u001b[43mimage\u001b[49m\u001b[43m,\u001b[49m\u001b[43m \u001b[49m\u001b[43msource\u001b[49m\u001b[38;5;241;43m=\u001b[39;49m\u001b[43mchannel_axis\u001b[49m\u001b[43m,\u001b[49m\u001b[43m \u001b[49m\u001b[43mdestination\u001b[49m\u001b[38;5;241;43m=\u001b[39;49m\u001b[38;5;241;43m-\u001b[39;49m\u001b[38;5;241;43m1\u001b[39;49m\u001b[43m)\u001b[49m\n\u001b[0;32m    127\u001b[0m \u001b[38;5;28;01mif\u001b[39;00m kind \u001b[38;5;241m==\u001b[39m \u001b[38;5;124m'\u001b[39m\u001b[38;5;124moverlay\u001b[39m\u001b[38;5;124m'\u001b[39m:\n\u001b[0;32m    128\u001b[0m     rgb \u001b[38;5;241m=\u001b[39m _label2rgb_overlay(label, image, colors, alpha, bg_label,\n\u001b[0;32m    129\u001b[0m                              bg_color, image_alpha, saturation)\n",
      "File \u001b[1;32m<__array_function__ internals>:180\u001b[0m, in \u001b[0;36mmoveaxis\u001b[1;34m(*args, **kwargs)\u001b[0m\n",
      "File \u001b[1;32m~\\miniconda3\\envs\\pytorch_cuda_test\\lib\\site-packages\\numpy\\core\\numeric.py:1477\u001b[0m, in \u001b[0;36mmoveaxis\u001b[1;34m(a, source, destination)\u001b[0m\n\u001b[0;32m   1474\u001b[0m \u001b[38;5;28;01mfor\u001b[39;00m dest, src \u001b[38;5;129;01min\u001b[39;00m \u001b[38;5;28msorted\u001b[39m(\u001b[38;5;28mzip\u001b[39m(destination, source)):\n\u001b[0;32m   1475\u001b[0m     order\u001b[38;5;241m.\u001b[39minsert(dest, src)\n\u001b[1;32m-> 1477\u001b[0m result \u001b[38;5;241m=\u001b[39m \u001b[43mtranspose\u001b[49m\u001b[43m(\u001b[49m\u001b[43morder\u001b[49m\u001b[43m)\u001b[49m\n\u001b[0;32m   1478\u001b[0m \u001b[38;5;28;01mreturn\u001b[39;00m result\n",
      "\u001b[1;31mTypeError\u001b[0m: transpose() received an invalid combination of arguments - got (list), but expected one of:\n * (int dim0, int dim1)\n * (name dim0, name dim1)\n"
     ]
    }
   ],
   "source": [
    "show_image_label_side_by_side(cityscape_train, 0)"
   ]
  },
  {
   "cell_type": "code",
   "execution_count": null,
   "id": "9d3758cf",
   "metadata": {},
   "outputs": [],
   "source": []
  }
 ],
 "metadata": {
  "kernelspec": {
   "display_name": "Python 3 (ipykernel)",
   "language": "python",
   "name": "python3"
  },
  "language_info": {
   "codemirror_mode": {
    "name": "ipython",
    "version": 3
   },
   "file_extension": ".py",
   "mimetype": "text/x-python",
   "name": "python",
   "nbconvert_exporter": "python",
   "pygments_lexer": "ipython3",
   "version": "3.9.15"
  }
 },
 "nbformat": 4,
 "nbformat_minor": 5
}
