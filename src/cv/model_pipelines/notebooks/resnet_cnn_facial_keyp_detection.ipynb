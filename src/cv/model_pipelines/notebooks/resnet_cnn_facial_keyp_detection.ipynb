{
 "cells": [
  {
   "cell_type": "markdown",
   "id": "6b3dc2c5",
   "metadata": {},
   "source": [
    "#### Modelling using Resnet18"
   ]
  },
  {
   "cell_type": "code",
   "execution_count": 1,
   "id": "6779812b",
   "metadata": {},
   "outputs": [],
   "source": [
    "from src.cv.pytorch.datasets.facial_keypoint_detection.dataset import FacialKeypointDataset\n",
    "from src.cv.model_pipelines.facial_keypoint_resnet_pipeline import FacialResnetTrainingPipeline"
   ]
  },
  {
   "cell_type": "code",
   "execution_count": 2,
   "id": "ba9f9565",
   "metadata": {},
   "outputs": [],
   "source": [
    "fkd = FacialKeypointDataset(\n",
    "    dataset_name=\"faces\", \n",
    "    data_type = \"csv\",\n",
    "    data_file=r\"data/facial-keypoints-detection/training.csv\",\n",
    "    resize_size=96,\n",
    "    is_test=False\n",
    ")"
   ]
  },
  {
   "cell_type": "code",
   "execution_count": 3,
   "id": "4d278af9",
   "metadata": {},
   "outputs": [],
   "source": [
    "model_training_config = dict(\n",
    "    learning_rate=0.09,\n",
    "    batch_size=250,\n",
    "    epochs=20,\n",
    "    batch_norm_momentum=0.5\n",
    ")\n",
    "model_data_config = dict(\n",
    "     dataset_size=len(fkd), train_data_pct=0.8, model_save_path=\"C:\\\\Users\\\\sankr\\\\Documents\\\\projects\\\\git_work\\\\experiments_cv_nlp\\\\data\\\\facial-keypoint-detection\"\n",
    ")"
   ]
  },
  {
   "cell_type": "code",
   "execution_count": 7,
   "id": "130ca776",
   "metadata": {},
   "outputs": [],
   "source": [
    "model_initialization_params=dict(\n",
    "    batch_norm_epsilon=1e-05, \n",
    "    batch_norm_momentum=model_training_config[\"batch_norm_momentum\"],\n",
    "    input_shape=1,\n",
    "    number_of_classes=30,\n",
    "    resnet_type= \"resnet_18\",\n",
    "    use_leaky_relu_in_resnet = True,\n",
    "    alpha_leaky_relu = 0.01,\n",
    "    per_block_starting_stride=[1, 2, 2, 2]\n",
    ")"
   ]
  },
  {
   "cell_type": "code",
   "execution_count": 9,
   "id": "c32fb24d",
   "metadata": {},
   "outputs": [],
   "source": [
    "facial_keypoint_pipeline = FacialResnetTrainingPipeline(\n",
    "    dataset=fkd,\n",
    "    model_data_config=model_data_config,\n",
    "    model_initialization_params=model_initialization_params,\n",
    "    model_training_config = model_training_config,\n",
    "#     load_model_from_path=r\"C:\\Users\\sankr\\Documents\\projects\\git_work\\experiments_cv_nlp\\data\\facial-keypoints-detection\\models\\fck_resnet18.pkl\"\n",
    ")"
   ]
  },
  {
   "cell_type": "code",
   "execution_count": 10,
   "id": "b82a8fdd",
   "metadata": {},
   "outputs": [
    {
     "name": "stdout",
     "output_type": "stream",
     "text": [
      "Resnet(\n",
      "  (maxPool2d1): MaxPool2d(kernel_size=(3, 3), stride=2, padding=1, dilation=1, ceil_mode=False)\n",
      "  (conv2d1): Sequential(\n",
      "    (0): Conv2d(1, 64, kernel_size=(7, 7), stride=(2, 2), padding=(3, 3))\n",
      "    (1): BatchNorm2d(64, eps=1e-05, momentum=0.5, affine=True, track_running_stats=True)\n",
      "    (2): LeakyReLU(negative_slope=0.01)\n",
      "    (3): MaxPool2d(kernel_size=(3, 3), stride=2, padding=1, dilation=1, ceil_mode=False)\n",
      "  )\n",
      "  (Resnet_18conv2Block): ResnetBlock(\n",
      "    (BasicBlock2): Sequential(\n",
      "      (0): Conv2d(64, 64, kernel_size=(3, 3), stride=(1, 1), padding=(1, 1), bias=False)\n",
      "      (1): BatchNorm2d(64, eps=1e-05, momentum=0.5, affine=True, track_running_stats=True)\n",
      "      (2): LeakyReLU(negative_slope=0.01)\n",
      "      (3): Conv2d(64, 64, kernel_size=(3, 3), stride=(1, 1), padding=(1, 1), bias=False)\n",
      "      (4): BatchNorm2d(64, eps=1e-05, momentum=0.5, affine=True, track_running_stats=True)\n",
      "    )\n",
      "  )\n",
      "  (Resnet_18conv3Block): ResnetBlock(\n",
      "    (downsample): Sequential(\n",
      "      (0): Conv2d(64, 128, kernel_size=(1, 1), stride=(2, 2), bias=False)\n",
      "      (1): BatchNorm2d(128, eps=1e-05, momentum=0.5, affine=True, track_running_stats=True)\n",
      "    )\n",
      "    (BasicBlock2): Sequential(\n",
      "      (0): Conv2d(64, 128, kernel_size=(3, 3), stride=(2, 2), padding=(1, 1), bias=False)\n",
      "      (1): BatchNorm2d(128, eps=1e-05, momentum=0.5, affine=True, track_running_stats=True)\n",
      "      (2): LeakyReLU(negative_slope=0.01)\n",
      "      (3): Conv2d(128, 128, kernel_size=(3, 3), stride=(1, 1), padding=(1, 1), bias=False)\n",
      "      (4): BatchNorm2d(128, eps=1e-05, momentum=0.5, affine=True, track_running_stats=True)\n",
      "    )\n",
      "  )\n",
      "  (Resnet_18conv4Block): ResnetBlock(\n",
      "    (downsample): Sequential(\n",
      "      (0): Conv2d(128, 256, kernel_size=(1, 1), stride=(2, 2), bias=False)\n",
      "      (1): BatchNorm2d(256, eps=1e-05, momentum=0.5, affine=True, track_running_stats=True)\n",
      "    )\n",
      "    (BasicBlock2): Sequential(\n",
      "      (0): Conv2d(128, 256, kernel_size=(3, 3), stride=(2, 2), padding=(1, 1), bias=False)\n",
      "      (1): BatchNorm2d(256, eps=1e-05, momentum=0.5, affine=True, track_running_stats=True)\n",
      "      (2): LeakyReLU(negative_slope=0.01)\n",
      "      (3): Conv2d(256, 256, kernel_size=(3, 3), stride=(1, 1), padding=(1, 1), bias=False)\n",
      "      (4): BatchNorm2d(256, eps=1e-05, momentum=0.5, affine=True, track_running_stats=True)\n",
      "    )\n",
      "  )\n",
      "  (Resnet_18conv5Block): ResnetBlock(\n",
      "    (downsample): Sequential(\n",
      "      (0): Conv2d(256, 512, kernel_size=(1, 1), stride=(2, 2), bias=False)\n",
      "      (1): BatchNorm2d(512, eps=1e-05, momentum=0.5, affine=True, track_running_stats=True)\n",
      "    )\n",
      "    (BasicBlock2): Sequential(\n",
      "      (0): Conv2d(256, 512, kernel_size=(3, 3), stride=(2, 2), padding=(1, 1), bias=False)\n",
      "      (1): BatchNorm2d(512, eps=1e-05, momentum=0.5, affine=True, track_running_stats=True)\n",
      "      (2): LeakyReLU(negative_slope=0.01)\n",
      "      (3): Conv2d(512, 512, kernel_size=(3, 3), stride=(1, 1), padding=(1, 1), bias=False)\n",
      "      (4): BatchNorm2d(512, eps=1e-05, momentum=0.5, affine=True, track_running_stats=True)\n",
      "    )\n",
      "  )\n",
      "  (adaptive_avgPool2d2): AdaptiveAvgPool2d(output_size=(1, 1))\n",
      "  (linear1): Sequential(\n",
      "    (0): Linear(in_features=512, out_features=30, bias=True)\n",
      "  )\n",
      ")\n"
     ]
    }
   ],
   "source": [
    "print(facial_keypoint_pipeline.model)"
   ]
  },
  {
   "cell_type": "code",
   "execution_count": null,
   "id": "4e82f82b",
   "metadata": {
    "scrolled": true
   },
   "outputs": [
    {
     "name": "stderr",
     "output_type": "stream",
     "text": [
      "\r",
      "  0%|                                                                                           | 0/20 [00:00<?, ?it/s]"
     ]
    },
    {
     "name": "stdout",
     "output_type": "stream",
     "text": [
      "root - INFO - Train Loss for epoch 0: 296.5056 - 06-Feb-23 22:53:00\n",
      "root - INFO - Validation Loss for epoch 0: 16.3533 - 06-Feb-23 22:53:46\n"
     ]
    },
    {
     "name": "stderr",
     "output_type": "stream",
     "text": [
      "\r",
      "  5%|████▏                                                                              | 1/20 [01:39<31:32, 99.60s/it]"
     ]
    },
    {
     "name": "stdout",
     "output_type": "stream",
     "text": [
      "root - INFO - Train Loss for epoch 1: 16.2573 - 06-Feb-23 22:54:33\n",
      "root - INFO - Validation Loss for epoch 1: 12.7653 - 06-Feb-23 22:55:18\n"
     ]
    },
    {
     "name": "stderr",
     "output_type": "stream",
     "text": [
      "\r",
      " 10%|████████▎                                                                          | 2/20 [03:11<28:33, 95.20s/it]"
     ]
    },
    {
     "name": "stdout",
     "output_type": "stream",
     "text": [
      "root - INFO - Train Loss for epoch 2: 11.0951 - 06-Feb-23 22:56:06\n",
      "root - INFO - Validation Loss for epoch 2: 11.4722 - 06-Feb-23 22:56:45\n"
     ]
    },
    {
     "name": "stderr",
     "output_type": "stream",
     "text": [
      "\r",
      " 15%|████████████▍                                                                      | 3/20 [04:38<25:51, 91.26s/it]"
     ]
    },
    {
     "name": "stdout",
     "output_type": "stream",
     "text": [
      "root - INFO - Train Loss for epoch 3: 10.6094 - 06-Feb-23 22:57:18\n",
      "root - INFO - Validation Loss for epoch 3: 11.4249 - 06-Feb-23 22:57:49\n"
     ]
    },
    {
     "name": "stderr",
     "output_type": "stream",
     "text": [
      "\r",
      " 20%|████████████████▌                                                                  | 4/20 [05:42<21:28, 80.55s/it]"
     ]
    },
    {
     "name": "stdout",
     "output_type": "stream",
     "text": [
      "root - INFO - Train Loss for epoch 4: 10.5517 - 06-Feb-23 22:58:22\n",
      "root - INFO - Validation Loss for epoch 4: 11.4105 - 06-Feb-23 22:58:53\n"
     ]
    },
    {
     "name": "stderr",
     "output_type": "stream",
     "text": [
      "\r",
      " 25%|████████████████████▊                                                              | 5/20 [06:46<18:40, 74.73s/it]"
     ]
    },
    {
     "name": "stdout",
     "output_type": "stream",
     "text": [
      "root - INFO - Train Loss for epoch 5: 10.4607 - 06-Feb-23 22:59:28\n"
     ]
    }
   ],
   "source": [
    "facial_keypoint_pipeline.train()\n"
   ]
  },
  {
   "cell_type": "code",
   "execution_count": 8,
   "id": "2e2cc754",
   "metadata": {},
   "outputs": [],
   "source": [
    "facial_keypoint_pipeline.generate_train_validation_loss_curves()"
   ]
  },
  {
   "cell_type": "code",
   "execution_count": 9,
   "id": "5c1e267f",
   "metadata": {},
   "outputs": [],
   "source": [
    "facial_keypoint_pipeline.best_model"
   ]
  },
  {
   "cell_type": "markdown",
   "id": "608ee2a5",
   "metadata": {},
   "source": [
    "#### Generate Predictions"
   ]
  },
  {
   "cell_type": "code",
   "execution_count": 11,
   "id": "5f84fb7c",
   "metadata": {},
   "outputs": [],
   "source": [
    "fkd_test = FacialKeypointDataset(\n",
    "    dataset_name=\"faces\", \n",
    "    data_type = \"csv\",\n",
    "    data_file=r\"data/facial-keypoints-detection/test.csv\",\n",
    "    resize_size=96,\n",
    "    is_test=True\n",
    "\n",
    ")"
   ]
  },
  {
   "cell_type": "code",
   "execution_count": 12,
   "id": "0df1fb1b",
   "metadata": {},
   "outputs": [],
   "source": [
    "import torch\n",
    "import numpy as np"
   ]
  },
  {
   "cell_type": "code",
   "execution_count": 13,
   "id": "b38839c4",
   "metadata": {},
   "outputs": [],
   "source": [
    "test_dataloader = facial_keypoint_pipeline.generate_test_dataloader_from_dataset(fkd_test)"
   ]
  },
  {
   "cell_type": "code",
   "execution_count": 14,
   "id": "f13a140e",
   "metadata": {},
   "outputs": [],
   "source": [
    "predictions = facial_keypoint_pipeline.get_predictions(test_dataloader)"
   ]
  },
  {
   "cell_type": "code",
   "execution_count": 15,
   "id": "a34b8429",
   "metadata": {},
   "outputs": [],
   "source": [
    "from matplotlib import pyplot as plt\n",
    "def visualize_test_data(image_data, predictions, n_cols=5):\n",
    "    fig, axes = plt.subplots(nrows=1, ncols=n_cols, figsize=(20,12))\n",
    "  \n",
    "    for row in range(n_cols):\n",
    "        sample_idx = np.random.choice(len(image_data))\n",
    "        img = image_data[sample_idx][\"image\"].reshape(96,96)\n",
    "        predicted = predictions[sample_idx]\n",
    "\n",
    "        predicted = np.vstack(np.split(predicted, 15)).T\n",
    "        axes[row].imshow(img, cmap='gray')\n",
    "        axes[row].plot(predicted[0], predicted[1], 'o', color='green', label='predicted')\n",
    "        axes[row].legend()\n"
   ]
  },
  {
   "cell_type": "code",
   "execution_count": 16,
   "id": "6350a52b",
   "metadata": {},
   "outputs": [],
   "source": [
    "import pandas as pd\n",
    "id_lookup = pd.read_csv(\"c:\\\\users\\\\sankr\\\\documents\\\\projects\\\\git_work\\\\experiments_cv_nlp\\\\data\\\\facial-keypoints-detection\\\\IdLookupTable.csv\")\n",
    "id_lookup_features = list(id_lookup['FeatureName'])\n",
    "id_lookup_image = list(id_lookup['ImageId'])\n",
    "\n",
    "for i in range(len(id_lookup_features)):\n",
    "    id_lookup_features[i] = fkd.dataset.image_labels.columns.tolist().index(id_lookup_features[i])\n",
    "\n",
    "location = []\n",
    "for i in range(len(id_lookup_features)):\n",
    "    location.append(predictions[id_lookup_image[i]-1][id_lookup_features[i]])"
   ]
  },
  {
   "cell_type": "code",
   "execution_count": 17,
   "id": "37d0c77a",
   "metadata": {},
   "outputs": [],
   "source": [
    "id_lookup['FeatureName']= location\n",
    "submission = id_lookup[['RowId', 'FeatureName']]"
   ]
  },
  {
   "cell_type": "code",
   "execution_count": 18,
   "id": "b8f2ee5f",
   "metadata": {},
   "outputs": [],
   "source": [
    "submission.rename(columns={\"FeatureName\": \"Location\"}, inplace=True)"
   ]
  },
  {
   "cell_type": "code",
   "execution_count": 19,
   "id": "fe48cc47",
   "metadata": {},
   "outputs": [],
   "source": [
    "submissions_folder = \"c:\\\\users\\\\sankr\\\\documents\\\\projects\\\\git_work\\\\experiments_cv_nlp\\\\data\\\\facial-keypoints-detection\\\\submissions\"\n",
    "import os\n",
    "\n",
    "os.makedirs(submissions_folder, exist_ok=True)\n",
    "submission_path = os.path.join(submissions_folder, \"facial_keypoint_detections.csv\")\n",
    "submission.to_csv(submission_path, index=False)"
   ]
  },
  {
   "cell_type": "code",
   "execution_count": 20,
   "id": "bd9f2e66",
   "metadata": {},
   "outputs": [],
   "source": [
    "from kaggle_utils.kaggle_cli_wrapper import KaggleScoringsApi"
   ]
  },
  {
   "cell_type": "code",
   "execution_count": 21,
   "id": "ef63f333",
   "metadata": {},
   "outputs": [],
   "source": [
    "kaggle_scoring_api = KaggleScoringsApi(competition_name=\"facial-keypoints-detection\")"
   ]
  },
  {
   "cell_type": "code",
   "execution_count": 22,
   "id": "bbef828a",
   "metadata": {},
   "outputs": [],
   "source": [
    "kaggle_scoring_api.submit_solution(submissions_file=submission_path, description=\"facial_keypoint_vanilla_cnn\")"
   ]
  },
  {
   "cell_type": "code",
   "execution_count": 23,
   "id": "93bae53b",
   "metadata": {},
   "outputs": [],
   "source": [
    "kaggle_scoring_api.get_top_scores()"
   ]
  },
  {
   "cell_type": "code",
   "execution_count": 24,
   "id": "03db24bf",
   "metadata": {},
   "outputs": [
    {
     "name": "stderr",
     "output_type": "stream",
     "text": [
      "\r",
      "  0%|                                                                                           | 0/20 [00:00<?, ?it/s]"
     ]
    },
    {
     "name": "stdout",
     "output_type": "stream",
     "text": [
      "root - INFO - Train Loss for epoch 0: 283.2781 - 06-Feb-23 22:29:56\n",
      "root - INFO - Validation Loss for epoch 0: 22.2167 - 06-Feb-23 22:30:22\n"
     ]
    },
    {
     "name": "stderr",
     "output_type": "stream",
     "text": [
      "\r",
      "  5%|████▏                                                                              | 1/20 [00:59<18:51, 59.55s/it]"
     ]
    },
    {
     "name": "stdout",
     "output_type": "stream",
     "text": [
      "root - INFO - Train Loss for epoch 1: 16.0673 - 06-Feb-23 22:30:48\n",
      "root - INFO - Validation Loss for epoch 1: 12.1277 - 06-Feb-23 22:31:13\n"
     ]
    },
    {
     "name": "stderr",
     "output_type": "stream",
     "text": [
      "\r",
      " 10%|████████▎                                                                          | 2/20 [01:51<16:26, 54.81s/it]"
     ]
    },
    {
     "name": "stdout",
     "output_type": "stream",
     "text": [
      "root - INFO - Train Loss for epoch 2: 11.1671 - 06-Feb-23 22:31:38\n",
      "root - INFO - Validation Loss for epoch 2: 11.4585 - 06-Feb-23 22:32:06\n"
     ]
    },
    {
     "name": "stderr",
     "output_type": "stream",
     "text": [
      "\r",
      " 15%|████████████▍                                                                      | 3/20 [02:44<15:19, 54.07s/it]"
     ]
    },
    {
     "name": "stdout",
     "output_type": "stream",
     "text": [
      "root - INFO - Train Loss for epoch 3: 10.7115 - 06-Feb-23 22:32:32\n",
      "root - INFO - Validation Loss for epoch 3: 11.9417 - 06-Feb-23 22:33:01\n"
     ]
    },
    {
     "name": "stderr",
     "output_type": "stream",
     "text": [
      "\r",
      " 20%|████████████████▌                                                                  | 4/20 [03:38<14:27, 54.21s/it]"
     ]
    },
    {
     "name": "stdout",
     "output_type": "stream",
     "text": [
      "root - INFO - Train Loss for epoch 4: 10.6536 - 06-Feb-23 22:33:29\n",
      "root - INFO - Validation Loss for epoch 4: 11.3967 - 06-Feb-23 22:33:58\n"
     ]
    },
    {
     "name": "stderr",
     "output_type": "stream",
     "text": [
      "\r",
      " 25%|████████████████████▊                                                              | 5/20 [04:35<13:48, 55.23s/it]"
     ]
    },
    {
     "name": "stdout",
     "output_type": "stream",
     "text": [
      "root - INFO - Train Loss for epoch 5: 10.5493 - 06-Feb-23 22:34:27\n",
      "root - INFO - Validation Loss for epoch 5: 11.3159 - 06-Feb-23 22:34:54\n"
     ]
    },
    {
     "name": "stderr",
     "output_type": "stream",
     "text": [
      "\r",
      " 30%|████████████████████████▉                                                          | 6/20 [05:32<12:59, 55.65s/it]"
     ]
    },
    {
     "name": "stdout",
     "output_type": "stream",
     "text": [
      "root - INFO - Train Loss for epoch 6: 10.5372 - 06-Feb-23 22:35:23\n",
      "root - INFO - Validation Loss for epoch 6: 11.2631 - 06-Feb-23 22:35:49\n"
     ]
    },
    {
     "name": "stderr",
     "output_type": "stream",
     "text": [
      "\r",
      " 35%|█████████████████████████████                                                      | 7/20 [06:27<12:01, 55.51s/it]"
     ]
    },
    {
     "name": "stdout",
     "output_type": "stream",
     "text": [
      "root - INFO - Train Loss for epoch 7: 10.5696 - 06-Feb-23 22:36:17\n",
      "root - INFO - Validation Loss for epoch 7: 11.1907 - 06-Feb-23 22:36:43\n"
     ]
    },
    {
     "name": "stderr",
     "output_type": "stream",
     "text": [
      "\r",
      " 40%|█████████████████████████████████▏                                                 | 8/20 [07:20<10:57, 54.82s/it]"
     ]
    },
    {
     "name": "stdout",
     "output_type": "stream",
     "text": [
      "root - INFO - Train Loss for epoch 8: 10.6332 - 06-Feb-23 22:37:09\n",
      "root - INFO - Validation Loss for epoch 8: 11.9065 - 06-Feb-23 22:37:36\n"
     ]
    },
    {
     "name": "stderr",
     "output_type": "stream",
     "text": [
      "\r",
      " 45%|█████████████████████████████████████▎                                             | 9/20 [08:14<09:58, 54.40s/it]"
     ]
    },
    {
     "name": "stdout",
     "output_type": "stream",
     "text": [
      "root - INFO - Train Loss for epoch 9: 10.9428 - 06-Feb-23 22:38:03\n",
      "root - INFO - Validation Loss for epoch 9: 11.6643 - 06-Feb-23 22:38:28\n"
     ]
    },
    {
     "name": "stderr",
     "output_type": "stream",
     "text": [
      "\r",
      " 50%|█████████████████████████████████████████                                         | 10/20 [09:06<08:57, 53.75s/it]"
     ]
    },
    {
     "name": "stdout",
     "output_type": "stream",
     "text": [
      "root - INFO - Train Loss for epoch 10: 10.5339 - 06-Feb-23 22:38:52\n",
      "root - INFO - Validation Loss for epoch 10: 11.8628 - 06-Feb-23 22:39:17\n"
     ]
    },
    {
     "name": "stderr",
     "output_type": "stream",
     "text": [
      "\r",
      " 55%|█████████████████████████████████████████████                                     | 11/20 [09:54<07:49, 52.12s/it]"
     ]
    },
    {
     "name": "stdout",
     "output_type": "stream",
     "text": [
      "root - INFO - Train Loss for epoch 11: 10.5325 - 06-Feb-23 22:39:49\n",
      "root - INFO - Validation Loss for epoch 11: 12.6346 - 06-Feb-23 22:40:20\n"
     ]
    },
    {
     "name": "stderr",
     "output_type": "stream",
     "text": [
      "\r",
      " 60%|█████████████████████████████████████████████████▏                                | 12/20 [10:57<07:23, 55.42s/it]"
     ]
    },
    {
     "name": "stdout",
     "output_type": "stream",
     "text": [
      "root - INFO - Train Loss for epoch 12: 10.3572 - 06-Feb-23 22:40:52\n",
      "root - INFO - Validation Loss for epoch 12: 10.9507 - 06-Feb-23 22:41:20\n"
     ]
    },
    {
     "name": "stderr",
     "output_type": "stream",
     "text": [
      "\r",
      " 65%|█████████████████████████████████████████████████████▎                            | 13/20 [11:58<06:38, 56.91s/it]"
     ]
    },
    {
     "name": "stdout",
     "output_type": "stream",
     "text": [
      "root - INFO - Train Loss for epoch 13: 10.3257 - 06-Feb-23 22:41:48\n",
      "root - INFO - Validation Loss for epoch 13: 10.7521 - 06-Feb-23 22:42:18\n"
     ]
    },
    {
     "name": "stderr",
     "output_type": "stream",
     "text": [
      "\r",
      " 70%|█████████████████████████████████████████████████████████▍                        | 14/20 [12:55<05:42, 57.06s/it]"
     ]
    },
    {
     "name": "stdout",
     "output_type": "stream",
     "text": [
      "root - INFO - Train Loss for epoch 14: 10.3718 - 06-Feb-23 22:42:53\n",
      "root - INFO - Validation Loss for epoch 14: 10.9933 - 06-Feb-23 22:43:32\n"
     ]
    },
    {
     "name": "stderr",
     "output_type": "stream",
     "text": [
      "\r",
      " 75%|█████████████████████████████████████████████████████████████▌                    | 15/20 [14:09<05:11, 62.24s/it]"
     ]
    },
    {
     "name": "stdout",
     "output_type": "stream",
     "text": [
      "root - INFO - Train Loss for epoch 15: 10.1940 - 06-Feb-23 22:44:17\n",
      "root - INFO - Validation Loss for epoch 15: 10.7975 - 06-Feb-23 22:45:01\n"
     ]
    },
    {
     "name": "stderr",
     "output_type": "stream",
     "text": [
      "\r",
      " 80%|█████████████████████████████████████████████████████████████████▌                | 16/20 [15:38<04:41, 70.30s/it]"
     ]
    },
    {
     "name": "stdout",
     "output_type": "stream",
     "text": [
      "root - INFO - Train Loss for epoch 16: 10.8952 - 06-Feb-23 22:45:44\n",
      "root - INFO - Validation Loss for epoch 16: 12.5508 - 06-Feb-23 22:46:11\n"
     ]
    },
    {
     "name": "stderr",
     "output_type": "stream",
     "text": [
      "\r",
      " 85%|█████████████████████████████████████████████████████████████████████▋            | 17/20 [16:49<03:30, 70.24s/it]"
     ]
    },
    {
     "name": "stdout",
     "output_type": "stream",
     "text": [
      "root - INFO - Train Loss for epoch 17: 10.3554 - 06-Feb-23 22:46:37\n",
      "root - INFO - Validation Loss for epoch 17: 12.0896 - 06-Feb-23 22:47:03\n"
     ]
    },
    {
     "name": "stderr",
     "output_type": "stream",
     "text": [
      "\r",
      " 90%|█████████████████████████████████████████████████████████████████████████▊        | 18/20 [17:40<02:09, 64.66s/it]"
     ]
    },
    {
     "name": "stdout",
     "output_type": "stream",
     "text": [
      "root - INFO - Train Loss for epoch 18: 10.3148 - 06-Feb-23 22:47:30\n",
      "root - INFO - Validation Loss for epoch 18: 10.7292 - 06-Feb-23 22:47:55\n"
     ]
    },
    {
     "name": "stderr",
     "output_type": "stream",
     "text": [
      "\r",
      " 95%|█████████████████████████████████████████████████████████████████████████████▉    | 19/20 [18:33<01:01, 61.06s/it]"
     ]
    },
    {
     "name": "stdout",
     "output_type": "stream",
     "text": [
      "root - INFO - Train Loss for epoch 19: 10.0224 - 06-Feb-23 22:48:22\n",
      "root - INFO - Validation Loss for epoch 19: 11.4723 - 06-Feb-23 22:48:48\n"
     ]
    },
    {
     "name": "stderr",
     "output_type": "stream",
     "text": [
      "100%|██████████████████████████████████████████████████████████████████████████████████| 20/20 [19:25<00:00, 58.29s/it]\n"
     ]
    },
    {
     "data": {
      "text/plain": [
       "Resnet(\n",
       "  (maxPool2d1): MaxPool2d(kernel_size=(3, 3), stride=2, padding=1, dilation=1, ceil_mode=False)\n",
       "  (conv2d1): Sequential(\n",
       "    (0): Conv2d(96, 64, kernel_size=(7, 7), stride=(2, 2), padding=(3, 3))\n",
       "    (1): BatchNorm2d(64, eps=1e-05, momentum=0.5, affine=True, track_running_stats=True)\n",
       "    (2): LeakyReLU(negative_slope=0.01)\n",
       "    (3): MaxPool2d(kernel_size=(3, 3), stride=2, padding=1, dilation=1, ceil_mode=False)\n",
       "  )\n",
       "  (Resnet_18conv2Block): ResnetBlock(\n",
       "    (BasicBlock2): Sequential(\n",
       "      (0): Conv2d(64, 64, kernel_size=(3, 3), stride=(1, 1), padding=(1, 1), bias=False)\n",
       "      (1): BatchNorm2d(64, eps=1e-05, momentum=0.5, affine=True, track_running_stats=True)\n",
       "      (2): LeakyReLU(negative_slope=0.01)\n",
       "      (3): Conv2d(64, 64, kernel_size=(3, 3), stride=(1, 1), padding=(1, 1), bias=False)\n",
       "      (4): BatchNorm2d(64, eps=1e-05, momentum=0.5, affine=True, track_running_stats=True)\n",
       "    )\n",
       "  )\n",
       "  (Resnet_18conv3Block): ResnetBlock(\n",
       "    (downsample): Sequential(\n",
       "      (0): Conv2d(64, 128, kernel_size=(1, 1), stride=(2, 2), bias=False)\n",
       "      (1): BatchNorm2d(128, eps=1e-05, momentum=0.5, affine=True, track_running_stats=True)\n",
       "    )\n",
       "    (BasicBlock2): Sequential(\n",
       "      (0): Conv2d(64, 128, kernel_size=(3, 3), stride=(2, 2), padding=(1, 1), bias=False)\n",
       "      (1): BatchNorm2d(128, eps=1e-05, momentum=0.5, affine=True, track_running_stats=True)\n",
       "      (2): LeakyReLU(negative_slope=0.01)\n",
       "      (3): Conv2d(128, 128, kernel_size=(3, 3), stride=(1, 1), padding=(1, 1), bias=False)\n",
       "      (4): BatchNorm2d(128, eps=1e-05, momentum=0.5, affine=True, track_running_stats=True)\n",
       "    )\n",
       "  )\n",
       "  (Resnet_18conv4Block): ResnetBlock(\n",
       "    (downsample): Sequential(\n",
       "      (0): Conv2d(128, 256, kernel_size=(1, 1), stride=(2, 2), bias=False)\n",
       "      (1): BatchNorm2d(256, eps=1e-05, momentum=0.5, affine=True, track_running_stats=True)\n",
       "    )\n",
       "    (BasicBlock2): Sequential(\n",
       "      (0): Conv2d(128, 256, kernel_size=(3, 3), stride=(2, 2), padding=(1, 1), bias=False)\n",
       "      (1): BatchNorm2d(256, eps=1e-05, momentum=0.5, affine=True, track_running_stats=True)\n",
       "      (2): LeakyReLU(negative_slope=0.01)\n",
       "      (3): Conv2d(256, 256, kernel_size=(3, 3), stride=(1, 1), padding=(1, 1), bias=False)\n",
       "      (4): BatchNorm2d(256, eps=1e-05, momentum=0.5, affine=True, track_running_stats=True)\n",
       "    )\n",
       "  )\n",
       "  (Resnet_18conv5Block): ResnetBlock(\n",
       "    (downsample): Sequential(\n",
       "      (0): Conv2d(256, 512, kernel_size=(1, 1), stride=(2, 2), bias=False)\n",
       "      (1): BatchNorm2d(512, eps=1e-05, momentum=0.5, affine=True, track_running_stats=True)\n",
       "    )\n",
       "    (BasicBlock2): Sequential(\n",
       "      (0): Conv2d(256, 512, kernel_size=(3, 3), stride=(2, 2), padding=(1, 1), bias=False)\n",
       "      (1): BatchNorm2d(512, eps=1e-05, momentum=0.5, affine=True, track_running_stats=True)\n",
       "      (2): LeakyReLU(negative_slope=0.01)\n",
       "      (3): Conv2d(512, 512, kernel_size=(3, 3), stride=(1, 1), padding=(1, 1), bias=False)\n",
       "      (4): BatchNorm2d(512, eps=1e-05, momentum=0.5, affine=True, track_running_stats=True)\n",
       "    )\n",
       "  )\n",
       "  (adaptive_avgPool2d2): AdaptiveAvgPool2d(output_size=(1, 1))\n",
       "  (linear1): Sequential(\n",
       "    (0): Linear(in_features=512, out_features=30, bias=True)\n",
       "  )\n",
       ")"
      ]
     },
     "execution_count": 24,
     "metadata": {},
     "output_type": "execute_result"
    }
   ],
   "source": [
    "!kaggle competitions submissions -c \"facial-keypoints-detection\""
   ]
  },
  {
   "cell_type": "code",
   "execution_count": 26,
   "id": "2d405acc",
   "metadata": {},
   "outputs": [
    {
     "data": {
      "image/png": "[encoded data removed]",
      "text/plain": [
       "<Figure size 1000x700 with 1 Axes>"
      ]
     },
     "metadata": {},
     "output_type": "display_data"
    }
   ],
   "source": [
    "plt.figure(figsize=(10, 7))\n",
    "plt.plot(np.log(train_loss), color='blue', label='train loss through epochs')\n",
    "plt.plot(np.log(validation_loss), color='red', label='validataion loss through epochs')\n",
    "plt.xlabel('Epochs')\n",
    "plt.ylabel('Loss')\n",
    "plt.legend()\n",
    "\n",
    "plt.show()"
   ]
  },
  {
   "cell_type": "code",
   "execution_count": null,
   "id": "1bc168af",
   "metadata": {},
   "outputs": [],
   "source": []
  }
 ],
 "metadata": {
  "kernelspec": {
   "display_name": "Python 3 (ipykernel)",
   "language": "python",
   "name": "python3"
  },
  "language_info": {
   "codemirror_mode": {
    "name": "ipython",
    "version": 3
   },
   "file_extension": ".py",
   "mimetype": "text/x-python",
   "name": "python",
   "nbconvert_exporter": "python",
   "pygments_lexer": "ipython3",
   "version": "3.9.15"
  }
 },
 "nbformat": 4,
 "nbformat_minor": 5
}
