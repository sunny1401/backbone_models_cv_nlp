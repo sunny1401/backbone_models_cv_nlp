{
 "cells": [
  {
   "cell_type": "markdown",
   "id": "819be08c",
   "metadata": {},
   "source": [
    "#### Modelling using Resnet18"
   ]
  },
  {
   "cell_type": "code",
   "execution_count": 1,
   "id": "30bf93d2",
   "metadata": {},
   "outputs": [],
   "source": [
    "from src.cv.pytorch.datasets.facial_keypoint_detection.dataset import FacialKeypointDataset\n",
    "from src.cv.model_pipelines.facial_keypoint_resnet_pipeline import FacialResnetTrainingPipeline"
   ]
  },
  {
   "cell_type": "code",
   "execution_count": 2,
   "id": "69e383fc",
   "metadata": {},
   "outputs": [],
   "source": [
    "fkd = FacialKeypointDataset(\n",
    "    dataset_name=\"faces\", \n",
    "    data_type = \"csv\",\n",
    "    data_file=r\"data/facial-keypoints-detection/training.csv\",\n",
    "    resize_size=96,\n",
    "    is_test=False\n",
    ")"
   ]
  },
  {
   "cell_type": "code",
   "execution_count": 3,
   "id": "640ca9f8",
   "metadata": {},
   "outputs": [],
   "source": [
    "model_training_config = dict(\n",
    "    learning_rate=0.09,\n",
    "    batch_size=250,\n",
    "    epochs=20,\n",
    "    batch_norm_momentum=0.5\n",
    ")\n",
    "model_data_config = dict(\n",
    "     dataset_size=len(fkd), train_data_pct=0.8, model_save_path=\"C:\\\\Users\\\\sankr\\\\Documents\\\\projects\\\\git_work\\\\experiments_cv_nlp\\\\data\\\\facial-keypoint-detection\"\n",
    ")"
   ]
  },
  {
   "cell_type": "code",
   "execution_count": 4,
   "id": "dc899850",
   "metadata": {},
   "outputs": [],
   "source": [
    "from src.cv.pytorch.models.resnet_model_architectures import RESNET_MODEL_ARCHITECTURES"
   ]
  },
  {
   "cell_type": "code",
   "execution_count": 5,
   "id": "9c358c42",
   "metadata": {},
   "outputs": [],
   "source": [
    "\n",
    "model_initialization_params=dict(\n",
    "    batch_norm_epsilon=1e-05, \n",
    "    batch_norm_momentum=model_training_config[\"batch_norm_momentum\"],\n",
    "    in_channels=1,\n",
    "    num_classes=30,\n",
    "    use_leaky_relu_in_resnet = True,\n",
    "    alpha_leaky_relu = 0.01,\n",
    "    initialize_cnn=True,\n",
    "    resnet_stride_output_combination= RESNET_MODEL_ARCHITECTURES[\"resnet18\"],\n",
    ")"
   ]
  },
  {
   "cell_type": "code",
   "execution_count": 6,
   "id": "d9893960",
   "metadata": {},
   "outputs": [],
   "source": [
    "facial_keypoint_pipeline = FacialResnetTrainingPipeline(\n",
    "    dataset=fkd,\n",
    "    model_data_config=model_data_config,\n",
    "    model_initialization_params=model_initialization_params,\n",
    "    model_training_config = model_training_config,\n",
    ")"
   ]
  },
  {
   "cell_type": "code",
   "execution_count": 7,
   "id": "d3a13bcc",
   "metadata": {},
   "outputs": [
    {
     "name": "stdout",
     "output_type": "stream",
     "text": [
      "VanillaResnet(\n",
      "  (maxPool2d1): MaxPool2d(kernel_size=(3, 3), stride=2, padding=1, dilation=1, ceil_mode=False)\n",
      "  (conv1): Sequential(\n",
      "    (0): Conv2d(1, 64, kernel_size=(7, 7), stride=(2, 2), padding=(3, 3))\n",
      "    (1): BatchNorm2d(64, eps=1e-05, momentum=0.5, affine=True, track_running_stats=True)\n",
      "    (2): LeakyReLU(negative_slope=0.01)\n",
      "    (3): MaxPool2d(kernel_size=(3, 3), stride=2, padding=1, dilation=1, ceil_mode=False)\n",
      "  )\n",
      "  (BasicBlock_conv2x_1): ResnetBasicBlock(\n",
      "    (conv1): Sequential(\n",
      "      (0): Conv2d(64, 64, kernel_size=(3, 3), stride=(1, 1), padding=(1, 1))\n",
      "      (1): BatchNorm2d(64, eps=1e-05, momentum=0.1, affine=True, track_running_stats=True)\n",
      "      (2): LeakyReLU(negative_slope=0.001)\n",
      "    )\n",
      "    (conv2): Sequential(\n",
      "      (0): Conv2d(64, 64, kernel_size=(3, 3), stride=(1, 1), padding=(1, 1))\n",
      "      (1): BatchNorm2d(64, eps=1e-05, momentum=0.1, affine=True, track_running_stats=True)\n",
      "    )\n",
      "  )\n",
      "  (BasicBlock_conv2x_2): ResnetBasicBlock(\n",
      "    (conv1): Sequential(\n",
      "      (0): Conv2d(64, 64, kernel_size=(3, 3), stride=(1, 1), padding=(1, 1))\n",
      "      (1): BatchNorm2d(64, eps=1e-05, momentum=0.1, affine=True, track_running_stats=True)\n",
      "      (2): LeakyReLU(negative_slope=0.001)\n",
      "    )\n",
      "    (conv2): Sequential(\n",
      "      (0): Conv2d(64, 64, kernel_size=(3, 3), stride=(1, 1), padding=(1, 1))\n",
      "      (1): BatchNorm2d(64, eps=1e-05, momentum=0.1, affine=True, track_running_stats=True)\n",
      "    )\n",
      "  )\n",
      "  (BasicBlock_conv3x_1): ResnetBasicBlock(\n",
      "    (conv1): Sequential(\n",
      "      (0): Conv2d(64, 128, kernel_size=(3, 3), stride=(2, 2), padding=(1, 1))\n",
      "      (1): BatchNorm2d(128, eps=1e-05, momentum=0.1, affine=True, track_running_stats=True)\n",
      "      (2): LeakyReLU(negative_slope=0.001)\n",
      "    )\n",
      "    (conv2): Sequential(\n",
      "      (0): Conv2d(128, 128, kernel_size=(3, 3), stride=(1, 1), padding=(1, 1))\n",
      "      (1): BatchNorm2d(128, eps=1e-05, momentum=0.1, affine=True, track_running_stats=True)\n",
      "    )\n",
      "    (downsample_identity): Sequential(\n",
      "      (0): Conv2d(64, 128, kernel_size=(1, 1), stride=(2, 2))\n",
      "      (1): BatchNorm2d(128, eps=1e-05, momentum=0.1, affine=True, track_running_stats=True)\n",
      "      (2): LeakyReLU(negative_slope=0.001)\n",
      "    )\n",
      "  )\n",
      "  (BasicBlock_conv3x_2): ResnetBasicBlock(\n",
      "    (conv1): Sequential(\n",
      "      (0): Conv2d(128, 128, kernel_size=(3, 3), stride=(2, 2), padding=(1, 1))\n",
      "      (1): BatchNorm2d(128, eps=1e-05, momentum=0.1, affine=True, track_running_stats=True)\n",
      "      (2): LeakyReLU(negative_slope=0.001)\n",
      "    )\n",
      "    (conv2): Sequential(\n",
      "      (0): Conv2d(128, 128, kernel_size=(3, 3), stride=(1, 1), padding=(1, 1))\n",
      "      (1): BatchNorm2d(128, eps=1e-05, momentum=0.1, affine=True, track_running_stats=True)\n",
      "    )\n",
      "    (downsample_identity): Sequential(\n",
      "      (0): Conv2d(128, 128, kernel_size=(1, 1), stride=(2, 2))\n",
      "      (1): BatchNorm2d(128, eps=1e-05, momentum=0.1, affine=True, track_running_stats=True)\n",
      "      (2): LeakyReLU(negative_slope=0.001)\n",
      "    )\n",
      "  )\n",
      "  (BasicBlock_conv4x_1): ResnetBasicBlock(\n",
      "    (conv1): Sequential(\n",
      "      (0): Conv2d(128, 256, kernel_size=(3, 3), stride=(2, 2), padding=(1, 1))\n",
      "      (1): BatchNorm2d(256, eps=1e-05, momentum=0.1, affine=True, track_running_stats=True)\n",
      "      (2): LeakyReLU(negative_slope=0.001)\n",
      "    )\n",
      "    (conv2): Sequential(\n",
      "      (0): Conv2d(256, 256, kernel_size=(3, 3), stride=(1, 1), padding=(1, 1))\n",
      "      (1): BatchNorm2d(256, eps=1e-05, momentum=0.1, affine=True, track_running_stats=True)\n",
      "    )\n",
      "    (downsample_identity): Sequential(\n",
      "      (0): Conv2d(128, 256, kernel_size=(1, 1), stride=(2, 2))\n",
      "      (1): BatchNorm2d(256, eps=1e-05, momentum=0.1, affine=True, track_running_stats=True)\n",
      "      (2): LeakyReLU(negative_slope=0.001)\n",
      "    )\n",
      "  )\n",
      "  (BasicBlock_conv4x_2): ResnetBasicBlock(\n",
      "    (conv1): Sequential(\n",
      "      (0): Conv2d(256, 256, kernel_size=(3, 3), stride=(2, 2), padding=(1, 1))\n",
      "      (1): BatchNorm2d(256, eps=1e-05, momentum=0.1, affine=True, track_running_stats=True)\n",
      "      (2): LeakyReLU(negative_slope=0.001)\n",
      "    )\n",
      "    (conv2): Sequential(\n",
      "      (0): Conv2d(256, 256, kernel_size=(3, 3), stride=(1, 1), padding=(1, 1))\n",
      "      (1): BatchNorm2d(256, eps=1e-05, momentum=0.1, affine=True, track_running_stats=True)\n",
      "    )\n",
      "    (downsample_identity): Sequential(\n",
      "      (0): Conv2d(256, 256, kernel_size=(1, 1), stride=(2, 2))\n",
      "      (1): BatchNorm2d(256, eps=1e-05, momentum=0.1, affine=True, track_running_stats=True)\n",
      "      (2): LeakyReLU(negative_slope=0.001)\n",
      "    )\n",
      "  )\n",
      "  (BasicBlock_conv5x_1): ResnetBasicBlock(\n",
      "    (conv1): Sequential(\n",
      "      (0): Conv2d(256, 512, kernel_size=(3, 3), stride=(2, 2), padding=(1, 1))\n",
      "      (1): BatchNorm2d(512, eps=1e-05, momentum=0.1, affine=True, track_running_stats=True)\n",
      "      (2): LeakyReLU(negative_slope=0.001)\n",
      "    )\n",
      "    (conv2): Sequential(\n",
      "      (0): Conv2d(512, 512, kernel_size=(3, 3), stride=(1, 1), padding=(1, 1))\n",
      "      (1): BatchNorm2d(512, eps=1e-05, momentum=0.1, affine=True, track_running_stats=True)\n",
      "    )\n",
      "    (downsample_identity): Sequential(\n",
      "      (0): Conv2d(256, 512, kernel_size=(1, 1), stride=(2, 2))\n",
      "      (1): BatchNorm2d(512, eps=1e-05, momentum=0.1, affine=True, track_running_stats=True)\n",
      "      (2): LeakyReLU(negative_slope=0.001)\n",
      "    )\n",
      "  )\n",
      "  (BasicBlock_conv5x_2): ResnetBasicBlock(\n",
      "    (conv1): Sequential(\n",
      "      (0): Conv2d(512, 512, kernel_size=(3, 3), stride=(2, 2), padding=(1, 1))\n",
      "      (1): BatchNorm2d(512, eps=1e-05, momentum=0.1, affine=True, track_running_stats=True)\n",
      "      (2): LeakyReLU(negative_slope=0.001)\n",
      "    )\n",
      "    (conv2): Sequential(\n",
      "      (0): Conv2d(512, 512, kernel_size=(3, 3), stride=(1, 1), padding=(1, 1))\n",
      "      (1): BatchNorm2d(512, eps=1e-05, momentum=0.1, affine=True, track_running_stats=True)\n",
      "    )\n",
      "    (downsample_identity): Sequential(\n",
      "      (0): Conv2d(512, 512, kernel_size=(1, 1), stride=(2, 2))\n",
      "      (1): BatchNorm2d(512, eps=1e-05, momentum=0.1, affine=True, track_running_stats=True)\n",
      "      (2): LeakyReLU(negative_slope=0.001)\n",
      "    )\n",
      "  )\n",
      "  (dropout1): Dropout(p=0.09, inplace=False)\n",
      "  (adaptive_avgPool2d2): AdaptiveAvgPool2d(output_size=(1, 1))\n",
      "  (linear1): Sequential(\n",
      "    (0): Linear(in_features=512, out_features=30, bias=True)\n",
      "  )\n",
      ")\n"
     ]
    }
   ],
   "source": [
    "print(facial_keypoint_pipeline.model)"
   ]
  },
  {
   "cell_type": "code",
   "execution_count": 8,
   "id": "0a5e982a",
   "metadata": {
    "scrolled": true
   },
   "outputs": [
    {
     "name": "stderr",
     "output_type": "stream",
     "text": [
      "\r",
      "  0%|                                                                                           | 0/20 [00:00<?, ?it/s]"
     ]
    },
    {
     "name": "stdout",
     "output_type": "stream",
     "text": [
      "root - INFO - Train Loss for epoch 0: 345.8819 - 08-Feb-23 13:55:44\n",
      "root - INFO - Validation Loss for epoch 0: 198495.6781 - 08-Feb-23 13:56:04\n"
     ]
    },
    {
     "name": "stderr",
     "output_type": "stream",
     "text": [
      "\r",
      "  5%|████▏                                                                              | 1/20 [00:47<15:10, 47.93s/it]"
     ]
    },
    {
     "name": "stdout",
     "output_type": "stream",
     "text": [
      "root - INFO - Train Loss for epoch 1: 23.9061 - 08-Feb-23 13:56:26\n",
      "root - INFO - Validation Loss for epoch 1: 58.6419 - 08-Feb-23 13:56:47\n"
     ]
    },
    {
     "name": "stderr",
     "output_type": "stream",
     "text": [
      "\r",
      " 10%|████████▎                                                                          | 2/20 [01:30<13:30, 45.01s/it]"
     ]
    },
    {
     "name": "stdout",
     "output_type": "stream",
     "text": [
      "root - INFO - Train Loss for epoch 2: 15.2385 - 08-Feb-23 13:57:09\n",
      "root - INFO - Validation Loss for epoch 2: 14.6507 - 08-Feb-23 13:57:30\n"
     ]
    },
    {
     "name": "stderr",
     "output_type": "stream",
     "text": [
      "\r",
      " 15%|████████████▍                                                                      | 3/20 [02:13<12:23, 43.72s/it]"
     ]
    },
    {
     "name": "stdout",
     "output_type": "stream",
     "text": [
      "root - INFO - Train Loss for epoch 3: 13.9594 - 08-Feb-23 13:57:52\n",
      "root - INFO - Validation Loss for epoch 3: 11.6062 - 08-Feb-23 13:58:13\n"
     ]
    },
    {
     "name": "stderr",
     "output_type": "stream",
     "text": [
      "\r",
      " 20%|████████████████▌                                                                  | 4/20 [02:56<11:37, 43.59s/it]"
     ]
    },
    {
     "name": "stdout",
     "output_type": "stream",
     "text": [
      "root - INFO - Train Loss for epoch 4: 14.5398 - 08-Feb-23 13:58:35\n",
      "root - INFO - Validation Loss for epoch 4: 12.3150 - 08-Feb-23 13:58:56\n"
     ]
    },
    {
     "name": "stderr",
     "output_type": "stream",
     "text": [
      "\r",
      " 25%|████████████████████▊                                                              | 5/20 [03:39<10:50, 43.37s/it]"
     ]
    },
    {
     "name": "stdout",
     "output_type": "stream",
     "text": [
      "root - INFO - Train Loss for epoch 5: 14.0904 - 08-Feb-23 13:59:20\n",
      "root - INFO - Validation Loss for epoch 5: 18.4781 - 08-Feb-23 13:59:43\n"
     ]
    },
    {
     "name": "stderr",
     "output_type": "stream",
     "text": [
      "\r",
      " 30%|████████████████████████▉                                                          | 6/20 [04:26<10:25, 44.66s/it]"
     ]
    },
    {
     "name": "stdout",
     "output_type": "stream",
     "text": [
      "root - INFO - Train Loss for epoch 6: 17.7009 - 08-Feb-23 14:00:09\n",
      "root - INFO - Validation Loss for epoch 6: 24.3660 - 08-Feb-23 14:00:32\n"
     ]
    },
    {
     "name": "stderr",
     "output_type": "stream",
     "text": [
      "\r",
      " 35%|█████████████████████████████                                                      | 7/20 [05:15<09:59, 46.13s/it]"
     ]
    },
    {
     "name": "stdout",
     "output_type": "stream",
     "text": [
      "root - INFO - Train Loss for epoch 7: 17.8962 - 08-Feb-23 14:00:56\n",
      "root - INFO - Validation Loss for epoch 7: 12.7872 - 08-Feb-23 14:01:21\n"
     ]
    },
    {
     "name": "stderr",
     "output_type": "stream",
     "text": [
      "\r",
      " 40%|█████████████████████████████████▏                                                 | 8/20 [06:04<09:22, 46.86s/it]"
     ]
    },
    {
     "name": "stdout",
     "output_type": "stream",
     "text": [
      "root - INFO - Train Loss for epoch 8: 17.0639 - 08-Feb-23 14:01:46\n",
      "root - INFO - Validation Loss for epoch 8: 34.9530 - 08-Feb-23 14:02:10\n"
     ]
    },
    {
     "name": "stderr",
     "output_type": "stream",
     "text": [
      "\r",
      " 45%|█████████████████████████████████████▎                                             | 9/20 [06:53<08:42, 47.51s/it]"
     ]
    },
    {
     "name": "stdout",
     "output_type": "stream",
     "text": [
      "root - INFO - Train Loss for epoch 9: 19.2118 - 08-Feb-23 14:02:34\n",
      "root - INFO - Validation Loss for epoch 9: 14.3819 - 08-Feb-23 14:02:55\n"
     ]
    },
    {
     "name": "stderr",
     "output_type": "stream",
     "text": [
      "\r",
      " 50%|█████████████████████████████████████████                                         | 10/20 [07:38<07:48, 46.82s/it]"
     ]
    },
    {
     "name": "stdout",
     "output_type": "stream",
     "text": [
      "root - INFO - Train Loss for epoch 10: 12.8456 - 08-Feb-23 14:03:17\n",
      "root - INFO - Validation Loss for epoch 10: 12.1241 - 08-Feb-23 14:03:39\n"
     ]
    },
    {
     "name": "stderr",
     "output_type": "stream",
     "text": [
      "\r",
      " 55%|█████████████████████████████████████████████                                     | 11/20 [08:22<06:52, 45.89s/it]"
     ]
    },
    {
     "name": "stdout",
     "output_type": "stream",
     "text": [
      "root - INFO - Train Loss for epoch 11: 12.9682 - 08-Feb-23 14:04:01\n",
      "root - INFO - Validation Loss for epoch 11: 11.8975 - 08-Feb-23 14:04:23\n"
     ]
    },
    {
     "name": "stderr",
     "output_type": "stream",
     "text": [
      "\r",
      " 60%|█████████████████████████████████████████████████▏                                | 12/20 [09:06<06:04, 45.50s/it]"
     ]
    },
    {
     "name": "stdout",
     "output_type": "stream",
     "text": [
      "root - INFO - Train Loss for epoch 12: 14.5012 - 08-Feb-23 14:04:47\n",
      "root - INFO - Validation Loss for epoch 12: 14.2153 - 08-Feb-23 14:05:09\n"
     ]
    },
    {
     "name": "stderr",
     "output_type": "stream",
     "text": [
      "\r",
      " 65%|█████████████████████████████████████████████████████▎                            | 13/20 [09:52<05:18, 45.53s/it]"
     ]
    },
    {
     "name": "stdout",
     "output_type": "stream",
     "text": [
      "root - INFO - Train Loss for epoch 13: 15.2016 - 08-Feb-23 14:05:34\n",
      "root - INFO - Validation Loss for epoch 13: 14.1522 - 08-Feb-23 14:05:57\n"
     ]
    },
    {
     "name": "stderr",
     "output_type": "stream",
     "text": [
      "\r",
      " 70%|█████████████████████████████████████████████████████████▍                        | 14/20 [10:40<04:37, 46.32s/it]"
     ]
    },
    {
     "name": "stdout",
     "output_type": "stream",
     "text": [
      "root - INFO - Train Loss for epoch 14: 13.5801 - 08-Feb-23 14:06:24\n",
      "root - INFO - Validation Loss for epoch 14: 11.9695 - 08-Feb-23 14:06:51\n"
     ]
    },
    {
     "name": "stderr",
     "output_type": "stream",
     "text": [
      "\r",
      " 75%|█████████████████████████████████████████████████████████████▌                    | 15/20 [11:34<04:03, 48.61s/it]"
     ]
    },
    {
     "name": "stdout",
     "output_type": "stream",
     "text": [
      "root - INFO - Train Loss for epoch 15: 13.0340 - 08-Feb-23 14:07:21\n",
      "root - INFO - Validation Loss for epoch 15: 15.5672 - 08-Feb-23 14:07:50\n"
     ]
    },
    {
     "name": "stderr",
     "output_type": "stream",
     "text": [
      "\r",
      " 80%|█████████████████████████████████████████████████████████████████▌                | 16/20 [12:33<03:26, 51.69s/it]"
     ]
    },
    {
     "name": "stdout",
     "output_type": "stream",
     "text": [
      "root - INFO - Train Loss for epoch 16: 13.2372 - 08-Feb-23 14:08:19\n",
      "root - INFO - Validation Loss for epoch 16: 14.2489 - 08-Feb-23 14:08:47\n"
     ]
    },
    {
     "name": "stderr",
     "output_type": "stream",
     "text": [
      "\r",
      " 85%|█████████████████████████████████████████████████████████████████████▋            | 17/20 [13:30<02:39, 53.29s/it]"
     ]
    },
    {
     "name": "stdout",
     "output_type": "stream",
     "text": [
      "root - INFO - Train Loss for epoch 17: 13.5151 - 08-Feb-23 14:09:14\n",
      "root - INFO - Validation Loss for epoch 17: 12.0830 - 08-Feb-23 14:09:37\n"
     ]
    },
    {
     "name": "stderr",
     "output_type": "stream",
     "text": [
      "\r",
      " 90%|█████████████████████████████████████████████████████████████████████████▊        | 18/20 [14:21<01:45, 52.52s/it]"
     ]
    },
    {
     "name": "stdout",
     "output_type": "stream",
     "text": [
      "root - INFO - Train Loss for epoch 18: 12.6901 - 08-Feb-23 14:10:06\n",
      "root - INFO - Validation Loss for epoch 18: 11.5167 - 08-Feb-23 14:10:33\n"
     ]
    },
    {
     "name": "stderr",
     "output_type": "stream",
     "text": [
      "\r",
      " 95%|█████████████████████████████████████████████████████████████████████████████▉    | 19/20 [15:16<00:53, 53.38s/it]"
     ]
    },
    {
     "name": "stdout",
     "output_type": "stream",
     "text": [
      "root - INFO - Train Loss for epoch 19: 14.3521 - 08-Feb-23 14:10:58\n",
      "root - INFO - Validation Loss for epoch 19: 25.2479 - 08-Feb-23 14:11:22\n"
     ]
    },
    {
     "name": "stderr",
     "output_type": "stream",
     "text": [
      "100%|██████████████████████████████████████████████████████████████████████████████████| 20/20 [16:05<00:00, 48.29s/it]\n"
     ]
    }
   ],
   "source": [
    "facial_keypoint_pipeline.train()\n"
   ]
  },
  {
   "cell_type": "code",
   "execution_count": 9,
   "id": "3047bdc7",
   "metadata": {
    "scrolled": true
   },
   "outputs": [
    {
     "data": {
      "image/png": "[encoded data removed]",
      "text/plain": [
       "<Figure size 1000x700 with 1 Axes>"
      ]
     },
     "metadata": {},
     "output_type": "display_data"
    }
   ],
   "source": [
    "facial_keypoint_pipeline.generate_train_validation_loss_curves()"
   ]
  },
  {
   "cell_type": "code",
   "execution_count": 10,
   "id": "c52a57d3",
   "metadata": {},
   "outputs": [
    {
     "data": {
      "image/png": "[encoded data removed]",
      "text/plain": [
       "<Figure size 1000x700 with 1 Axes>"
      ]
     },
     "metadata": {},
     "output_type": "display_data"
    }
   ],
   "source": [
    "from matplotlib import pyplot as plt\n",
    "import numpy as np\n",
    "\n",
    "plt.figure(figsize=(10, 7))\n",
    "plt.plot(np.log(facial_keypoint_pipeline.train_loss), color='blue', label='train loss through epochs')\n",
    "plt.plot(np.log(facial_keypoint_pipeline.validation_loss), color='red', label='validataion loss through epochs')\n",
    "plt.xlabel('Epochs')\n",
    "plt.ylabel('Loss')\n",
    "plt.legend()\n",
    "\n",
    "plt.show()"
   ]
  },
  {
   "cell_type": "code",
   "execution_count": 11,
   "id": "221164ba",
   "metadata": {},
   "outputs": [
    {
     "data": {
      "text/plain": [
       "VanillaResnet(\n",
       "  (maxPool2d1): MaxPool2d(kernel_size=(3, 3), stride=2, padding=1, dilation=1, ceil_mode=False)\n",
       "  (conv1): Sequential(\n",
       "    (0): Conv2d(1, 64, kernel_size=(7, 7), stride=(2, 2), padding=(3, 3))\n",
       "    (1): BatchNorm2d(64, eps=1e-05, momentum=0.5, affine=True, track_running_stats=True)\n",
       "    (2): LeakyReLU(negative_slope=0.01)\n",
       "    (3): MaxPool2d(kernel_size=(3, 3), stride=2, padding=1, dilation=1, ceil_mode=False)\n",
       "  )\n",
       "  (BasicBlock_conv2x_1): ResnetBasicBlock(\n",
       "    (conv1): Sequential(\n",
       "      (0): Conv2d(64, 64, kernel_size=(3, 3), stride=(1, 1), padding=(1, 1))\n",
       "      (1): BatchNorm2d(64, eps=1e-05, momentum=0.1, affine=True, track_running_stats=True)\n",
       "      (2): LeakyReLU(negative_slope=0.001)\n",
       "    )\n",
       "    (conv2): Sequential(\n",
       "      (0): Conv2d(64, 64, kernel_size=(3, 3), stride=(1, 1), padding=(1, 1))\n",
       "      (1): BatchNorm2d(64, eps=1e-05, momentum=0.1, affine=True, track_running_stats=True)\n",
       "    )\n",
       "  )\n",
       "  (BasicBlock_conv2x_2): ResnetBasicBlock(\n",
       "    (conv1): Sequential(\n",
       "      (0): Conv2d(64, 64, kernel_size=(3, 3), stride=(1, 1), padding=(1, 1))\n",
       "      (1): BatchNorm2d(64, eps=1e-05, momentum=0.1, affine=True, track_running_stats=True)\n",
       "      (2): LeakyReLU(negative_slope=0.001)\n",
       "    )\n",
       "    (conv2): Sequential(\n",
       "      (0): Conv2d(64, 64, kernel_size=(3, 3), stride=(1, 1), padding=(1, 1))\n",
       "      (1): BatchNorm2d(64, eps=1e-05, momentum=0.1, affine=True, track_running_stats=True)\n",
       "    )\n",
       "  )\n",
       "  (BasicBlock_conv3x_1): ResnetBasicBlock(\n",
       "    (conv1): Sequential(\n",
       "      (0): Conv2d(64, 128, kernel_size=(3, 3), stride=(2, 2), padding=(1, 1))\n",
       "      (1): BatchNorm2d(128, eps=1e-05, momentum=0.1, affine=True, track_running_stats=True)\n",
       "      (2): LeakyReLU(negative_slope=0.001)\n",
       "    )\n",
       "    (conv2): Sequential(\n",
       "      (0): Conv2d(128, 128, kernel_size=(3, 3), stride=(1, 1), padding=(1, 1))\n",
       "      (1): BatchNorm2d(128, eps=1e-05, momentum=0.1, affine=True, track_running_stats=True)\n",
       "    )\n",
       "    (downsample_identity): Sequential(\n",
       "      (0): Conv2d(64, 128, kernel_size=(1, 1), stride=(2, 2))\n",
       "      (1): BatchNorm2d(128, eps=1e-05, momentum=0.1, affine=True, track_running_stats=True)\n",
       "      (2): LeakyReLU(negative_slope=0.001)\n",
       "    )\n",
       "  )\n",
       "  (BasicBlock_conv3x_2): ResnetBasicBlock(\n",
       "    (conv1): Sequential(\n",
       "      (0): Conv2d(128, 128, kernel_size=(3, 3), stride=(2, 2), padding=(1, 1))\n",
       "      (1): BatchNorm2d(128, eps=1e-05, momentum=0.1, affine=True, track_running_stats=True)\n",
       "      (2): LeakyReLU(negative_slope=0.001)\n",
       "    )\n",
       "    (conv2): Sequential(\n",
       "      (0): Conv2d(128, 128, kernel_size=(3, 3), stride=(1, 1), padding=(1, 1))\n",
       "      (1): BatchNorm2d(128, eps=1e-05, momentum=0.1, affine=True, track_running_stats=True)\n",
       "    )\n",
       "    (downsample_identity): Sequential(\n",
       "      (0): Conv2d(128, 128, kernel_size=(1, 1), stride=(2, 2))\n",
       "      (1): BatchNorm2d(128, eps=1e-05, momentum=0.1, affine=True, track_running_stats=True)\n",
       "      (2): LeakyReLU(negative_slope=0.001)\n",
       "    )\n",
       "  )\n",
       "  (BasicBlock_conv4x_1): ResnetBasicBlock(\n",
       "    (conv1): Sequential(\n",
       "      (0): Conv2d(128, 256, kernel_size=(3, 3), stride=(2, 2), padding=(1, 1))\n",
       "      (1): BatchNorm2d(256, eps=1e-05, momentum=0.1, affine=True, track_running_stats=True)\n",
       "      (2): LeakyReLU(negative_slope=0.001)\n",
       "    )\n",
       "    (conv2): Sequential(\n",
       "      (0): Conv2d(256, 256, kernel_size=(3, 3), stride=(1, 1), padding=(1, 1))\n",
       "      (1): BatchNorm2d(256, eps=1e-05, momentum=0.1, affine=True, track_running_stats=True)\n",
       "    )\n",
       "    (downsample_identity): Sequential(\n",
       "      (0): Conv2d(128, 256, kernel_size=(1, 1), stride=(2, 2))\n",
       "      (1): BatchNorm2d(256, eps=1e-05, momentum=0.1, affine=True, track_running_stats=True)\n",
       "      (2): LeakyReLU(negative_slope=0.001)\n",
       "    )\n",
       "  )\n",
       "  (BasicBlock_conv4x_2): ResnetBasicBlock(\n",
       "    (conv1): Sequential(\n",
       "      (0): Conv2d(256, 256, kernel_size=(3, 3), stride=(2, 2), padding=(1, 1))\n",
       "      (1): BatchNorm2d(256, eps=1e-05, momentum=0.1, affine=True, track_running_stats=True)\n",
       "      (2): LeakyReLU(negative_slope=0.001)\n",
       "    )\n",
       "    (conv2): Sequential(\n",
       "      (0): Conv2d(256, 256, kernel_size=(3, 3), stride=(1, 1), padding=(1, 1))\n",
       "      (1): BatchNorm2d(256, eps=1e-05, momentum=0.1, affine=True, track_running_stats=True)\n",
       "    )\n",
       "    (downsample_identity): Sequential(\n",
       "      (0): Conv2d(256, 256, kernel_size=(1, 1), stride=(2, 2))\n",
       "      (1): BatchNorm2d(256, eps=1e-05, momentum=0.1, affine=True, track_running_stats=True)\n",
       "      (2): LeakyReLU(negative_slope=0.001)\n",
       "    )\n",
       "  )\n",
       "  (BasicBlock_conv5x_1): ResnetBasicBlock(\n",
       "    (conv1): Sequential(\n",
       "      (0): Conv2d(256, 512, kernel_size=(3, 3), stride=(2, 2), padding=(1, 1))\n",
       "      (1): BatchNorm2d(512, eps=1e-05, momentum=0.1, affine=True, track_running_stats=True)\n",
       "      (2): LeakyReLU(negative_slope=0.001)\n",
       "    )\n",
       "    (conv2): Sequential(\n",
       "      (0): Conv2d(512, 512, kernel_size=(3, 3), stride=(1, 1), padding=(1, 1))\n",
       "      (1): BatchNorm2d(512, eps=1e-05, momentum=0.1, affine=True, track_running_stats=True)\n",
       "    )\n",
       "    (downsample_identity): Sequential(\n",
       "      (0): Conv2d(256, 512, kernel_size=(1, 1), stride=(2, 2))\n",
       "      (1): BatchNorm2d(512, eps=1e-05, momentum=0.1, affine=True, track_running_stats=True)\n",
       "      (2): LeakyReLU(negative_slope=0.001)\n",
       "    )\n",
       "  )\n",
       "  (BasicBlock_conv5x_2): ResnetBasicBlock(\n",
       "    (conv1): Sequential(\n",
       "      (0): Conv2d(512, 512, kernel_size=(3, 3), stride=(2, 2), padding=(1, 1))\n",
       "      (1): BatchNorm2d(512, eps=1e-05, momentum=0.1, affine=True, track_running_stats=True)\n",
       "      (2): LeakyReLU(negative_slope=0.001)\n",
       "    )\n",
       "    (conv2): Sequential(\n",
       "      (0): Conv2d(512, 512, kernel_size=(3, 3), stride=(1, 1), padding=(1, 1))\n",
       "      (1): BatchNorm2d(512, eps=1e-05, momentum=0.1, affine=True, track_running_stats=True)\n",
       "    )\n",
       "    (downsample_identity): Sequential(\n",
       "      (0): Conv2d(512, 512, kernel_size=(1, 1), stride=(2, 2))\n",
       "      (1): BatchNorm2d(512, eps=1e-05, momentum=0.1, affine=True, track_running_stats=True)\n",
       "      (2): LeakyReLU(negative_slope=0.001)\n",
       "    )\n",
       "  )\n",
       "  (dropout1): Dropout(p=0.09, inplace=False)\n",
       "  (adaptive_avgPool2d2): AdaptiveAvgPool2d(output_size=(1, 1))\n",
       "  (linear1): Sequential(\n",
       "    (0): Linear(in_features=512, out_features=30, bias=True)\n",
       "  )\n",
       ")"
      ]
     },
     "execution_count": 11,
     "metadata": {},
     "output_type": "execute_result"
    }
   ],
   "source": [
    "facial_keypoint_pipeline.best_model"
   ]
  },
  {
   "cell_type": "markdown",
   "id": "d4f5e387",
   "metadata": {},
   "source": [
    "#### Further work on Kaggle -> https://www.kaggle.com/code/sunnyjoshi1401/facial-keypoint-detection-resnet18"
   ]
  },
  {
   "cell_type": "code",
   "execution_count": null,
   "id": "836c3874",
   "metadata": {},
   "outputs": [],
   "source": []
  }
 ],
 "metadata": {
  "kernelspec": {
   "display_name": "Python 3 (ipykernel)",
   "language": "python",
   "name": "python3"
  },
  "language_info": {
   "codemirror_mode": {
    "name": "ipython",
    "version": 3
   },
   "file_extension": ".py",
   "mimetype": "text/x-python",
   "name": "python",
   "nbconvert_exporter": "python",
   "pygments_lexer": "ipython3",
   "version": "3.9.15"
  }
 },
 "nbformat": 4,
 "nbformat_minor": 5
}
