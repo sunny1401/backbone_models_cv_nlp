{
 "cells": [
  {
   "cell_type": "markdown",
   "id": "819be08c",
   "metadata": {},
   "source": [
    "#### Modelling using Resnet18"
   ]
  },
  {
   "cell_type": "code",
   "execution_count": 1,
   "id": "30bf93d2",
   "metadata": {},
   "outputs": [],
   "source": [
    "from src.cv.pytorch.datasets.facial_keypoint_detection.dataset import FacialKeypointDataset\n",
    "from src.cv.model_pipelines.facial_keypoint_resnet_pipeline import FacialResnetTrainingPipeline"
   ]
  },
  {
   "cell_type": "code",
   "execution_count": 2,
   "id": "69e383fc",
   "metadata": {},
   "outputs": [],
   "source": [
    "fkd = FacialKeypointDataset(\n",
    "    dataset_name=\"faces\", \n",
    "    data_type = \"csv\",\n",
    "    data_file=r\"data/facial-keypoints-detection/training.csv\",\n",
    "    resize_size=96,\n",
    "    is_test=False\n",
    ")"
   ]
  },
  {
   "cell_type": "code",
   "execution_count": 3,
   "id": "640ca9f8",
   "metadata": {},
   "outputs": [],
   "source": [
    "model_training_config = dict(\n",
    "    learning_rate=0.09,\n",
    "    batch_size=250,\n",
    "    epochs=20,\n",
    "    batch_norm_momentum=0.5\n",
    ")\n",
    "model_data_config = dict(\n",
    "     dataset_size=len(fkd), train_data_pct=0.8, model_save_path=\"C:\\\\Users\\\\sankr\\\\Documents\\\\projects\\\\git_work\\\\experiments_cv_nlp\\\\data\\\\facial-keypoint-detection\"\n",
    ")"
   ]
  },
  {
   "cell_type": "code",
   "execution_count": 4,
   "id": "6a007607",
   "metadata": {},
   "outputs": [],
   "source": [
    "from src.cv.pytorch.models.resnet_model_architectures import RESNET_MODEL_ARCHITECTURES"
   ]
  },
  {
   "cell_type": "code",
   "execution_count": 5,
   "id": "9c358c42",
   "metadata": {},
   "outputs": [],
   "source": [
    "\n",
    "model_initialization_params=dict(\n",
    "    batch_norm_epsilon=1e-05, \n",
    "    batch_norm_momentum=model_training_config[\"batch_norm_momentum\"],\n",
    "    in_channels=1,\n",
    "    num_classes=30,\n",
    "    use_leaky_relu_in_resnet = True,\n",
    "    alpha_leaky_relu = 0.01,\n",
    "    initialize_cnn=True,\n",
    "    resnet_stride_output_combination= RESNET_MODEL_ARCHITECTURES[\"resnet18\"],\n",
    ")"
   ]
  },
  {
   "cell_type": "code",
   "execution_count": 6,
   "id": "d9893960",
   "metadata": {},
   "outputs": [],
   "source": [
    "facial_keypoint_pipeline = FacialResnetTrainingPipeline(\n",
    "    dataset=fkd,\n",
    "    model_data_config=model_data_config,\n",
    "    model_initialization_params=model_initialization_params,\n",
    "    model_training_config = model_training_config,\n",
    ")"
   ]
  },
  {
   "cell_type": "code",
   "execution_count": 7,
   "id": "d3a13bcc",
   "metadata": {},
   "outputs": [
    {
     "name": "stdout",
     "output_type": "stream",
     "text": [
      "VanillaResnet(\n",
      "  (maxPool2d1): MaxPool2d(kernel_size=(3, 3), stride=2, padding=1, dilation=1, ceil_mode=False)\n",
      "  (conv1): Sequential(\n",
      "    (0): Conv2d(1, 64, kernel_size=(7, 7), stride=(2, 2), padding=(3, 3))\n",
      "    (1): BatchNorm2d(64, eps=1e-05, momentum=0.5, affine=True, track_running_stats=True)\n",
      "    (2): LeakyReLU(negative_slope=0.01)\n",
      "    (3): MaxPool2d(kernel_size=(3, 3), stride=2, padding=1, dilation=1, ceil_mode=False)\n",
      "  )\n",
      "  (BasicBlock_conv2x_1): ResnetBasicBlock(\n",
      "    (conv1): Sequential(\n",
      "      (0): Conv2d(64, 64, kernel_size=(3, 3), stride=(1, 1), padding=(1, 1))\n",
      "      (1): BatchNorm2d(64, eps=1e-05, momentum=0.1, affine=True, track_running_stats=True)\n",
      "      (2): LeakyReLU(negative_slope=0.001)\n",
      "    )\n",
      "    (conv2): Sequential(\n",
      "      (0): Conv2d(64, 64, kernel_size=(3, 3), stride=(1, 1), padding=(1, 1))\n",
      "      (1): BatchNorm2d(64, eps=1e-05, momentum=0.1, affine=True, track_running_stats=True)\n",
      "    )\n",
      "  )\n",
      "  (BasicBlock_conv2x_2): ResnetBasicBlock(\n",
      "    (conv1): Sequential(\n",
      "      (0): Conv2d(64, 64, kernel_size=(3, 3), stride=(1, 1), padding=(1, 1))\n",
      "      (1): BatchNorm2d(64, eps=1e-05, momentum=0.1, affine=True, track_running_stats=True)\n",
      "      (2): LeakyReLU(negative_slope=0.001)\n",
      "    )\n",
      "    (conv2): Sequential(\n",
      "      (0): Conv2d(64, 64, kernel_size=(3, 3), stride=(1, 1), padding=(1, 1))\n",
      "      (1): BatchNorm2d(64, eps=1e-05, momentum=0.1, affine=True, track_running_stats=True)\n",
      "    )\n",
      "  )\n",
      "  (BasicBlock_conv3x_1): ResnetBasicBlock(\n",
      "    (conv1): Sequential(\n",
      "      (0): Conv2d(64, 128, kernel_size=(3, 3), stride=(2, 2), padding=(1, 1))\n",
      "      (1): BatchNorm2d(128, eps=1e-05, momentum=0.1, affine=True, track_running_stats=True)\n",
      "      (2): LeakyReLU(negative_slope=0.001)\n",
      "    )\n",
      "    (conv2): Sequential(\n",
      "      (0): Conv2d(128, 128, kernel_size=(3, 3), stride=(1, 1), padding=(1, 1))\n",
      "      (1): BatchNorm2d(128, eps=1e-05, momentum=0.1, affine=True, track_running_stats=True)\n",
      "    )\n",
      "    (downsample_identity): Sequential(\n",
      "      (0): Conv2d(64, 128, kernel_size=(1, 1), stride=(2, 2))\n",
      "      (1): BatchNorm2d(128, eps=1e-05, momentum=0.1, affine=True, track_running_stats=True)\n",
      "      (2): LeakyReLU(negative_slope=0.001)\n",
      "    )\n",
      "  )\n",
      "  (BasicBlock_conv3x_2): ResnetBasicBlock(\n",
      "    (conv1): Sequential(\n",
      "      (0): Conv2d(128, 128, kernel_size=(3, 3), stride=(2, 2), padding=(1, 1))\n",
      "      (1): BatchNorm2d(128, eps=1e-05, momentum=0.1, affine=True, track_running_stats=True)\n",
      "      (2): LeakyReLU(negative_slope=0.001)\n",
      "    )\n",
      "    (conv2): Sequential(\n",
      "      (0): Conv2d(128, 128, kernel_size=(3, 3), stride=(1, 1), padding=(1, 1))\n",
      "      (1): BatchNorm2d(128, eps=1e-05, momentum=0.1, affine=True, track_running_stats=True)\n",
      "    )\n",
      "    (downsample_identity): Sequential(\n",
      "      (0): Conv2d(128, 128, kernel_size=(1, 1), stride=(2, 2))\n",
      "      (1): BatchNorm2d(128, eps=1e-05, momentum=0.1, affine=True, track_running_stats=True)\n",
      "      (2): LeakyReLU(negative_slope=0.001)\n",
      "    )\n",
      "  )\n",
      "  (BasicBlock_conv4x_1): ResnetBasicBlock(\n",
      "    (conv1): Sequential(\n",
      "      (0): Conv2d(128, 256, kernel_size=(3, 3), stride=(2, 2), padding=(1, 1))\n",
      "      (1): BatchNorm2d(256, eps=1e-05, momentum=0.1, affine=True, track_running_stats=True)\n",
      "      (2): LeakyReLU(negative_slope=0.001)\n",
      "    )\n",
      "    (conv2): Sequential(\n",
      "      (0): Conv2d(256, 256, kernel_size=(3, 3), stride=(1, 1), padding=(1, 1))\n",
      "      (1): BatchNorm2d(256, eps=1e-05, momentum=0.1, affine=True, track_running_stats=True)\n",
      "    )\n",
      "    (downsample_identity): Sequential(\n",
      "      (0): Conv2d(128, 256, kernel_size=(1, 1), stride=(2, 2))\n",
      "      (1): BatchNorm2d(256, eps=1e-05, momentum=0.1, affine=True, track_running_stats=True)\n",
      "      (2): LeakyReLU(negative_slope=0.001)\n",
      "    )\n",
      "  )\n",
      "  (BasicBlock_conv4x_2): ResnetBasicBlock(\n",
      "    (conv1): Sequential(\n",
      "      (0): Conv2d(256, 256, kernel_size=(3, 3), stride=(2, 2), padding=(1, 1))\n",
      "      (1): BatchNorm2d(256, eps=1e-05, momentum=0.1, affine=True, track_running_stats=True)\n",
      "      (2): LeakyReLU(negative_slope=0.001)\n",
      "    )\n",
      "    (conv2): Sequential(\n",
      "      (0): Conv2d(256, 256, kernel_size=(3, 3), stride=(1, 1), padding=(1, 1))\n",
      "      (1): BatchNorm2d(256, eps=1e-05, momentum=0.1, affine=True, track_running_stats=True)\n",
      "    )\n",
      "    (downsample_identity): Sequential(\n",
      "      (0): Conv2d(256, 256, kernel_size=(1, 1), stride=(2, 2))\n",
      "      (1): BatchNorm2d(256, eps=1e-05, momentum=0.1, affine=True, track_running_stats=True)\n",
      "      (2): LeakyReLU(negative_slope=0.001)\n",
      "    )\n",
      "  )\n",
      "  (BasicBlock_conv5x_1): ResnetBasicBlock(\n",
      "    (conv1): Sequential(\n",
      "      (0): Conv2d(256, 512, kernel_size=(3, 3), stride=(2, 2), padding=(1, 1))\n",
      "      (1): BatchNorm2d(512, eps=1e-05, momentum=0.1, affine=True, track_running_stats=True)\n",
      "      (2): LeakyReLU(negative_slope=0.001)\n",
      "    )\n",
      "    (conv2): Sequential(\n",
      "      (0): Conv2d(512, 512, kernel_size=(3, 3), stride=(1, 1), padding=(1, 1))\n",
      "      (1): BatchNorm2d(512, eps=1e-05, momentum=0.1, affine=True, track_running_stats=True)\n",
      "    )\n",
      "    (downsample_identity): Sequential(\n",
      "      (0): Conv2d(256, 512, kernel_size=(1, 1), stride=(2, 2))\n",
      "      (1): BatchNorm2d(512, eps=1e-05, momentum=0.1, affine=True, track_running_stats=True)\n",
      "      (2): LeakyReLU(negative_slope=0.001)\n",
      "    )\n",
      "  )\n",
      "  (BasicBlock_conv5x_2): ResnetBasicBlock(\n",
      "    (conv1): Sequential(\n",
      "      (0): Conv2d(512, 512, kernel_size=(3, 3), stride=(2, 2), padding=(1, 1))\n",
      "      (1): BatchNorm2d(512, eps=1e-05, momentum=0.1, affine=True, track_running_stats=True)\n",
      "      (2): LeakyReLU(negative_slope=0.001)\n",
      "    )\n",
      "    (conv2): Sequential(\n",
      "      (0): Conv2d(512, 512, kernel_size=(3, 3), stride=(1, 1), padding=(1, 1))\n",
      "      (1): BatchNorm2d(512, eps=1e-05, momentum=0.1, affine=True, track_running_stats=True)\n",
      "    )\n",
      "    (downsample_identity): Sequential(\n",
      "      (0): Conv2d(512, 512, kernel_size=(1, 1), stride=(2, 2))\n",
      "      (1): BatchNorm2d(512, eps=1e-05, momentum=0.1, affine=True, track_running_stats=True)\n",
      "      (2): LeakyReLU(negative_slope=0.001)\n",
      "    )\n",
      "  )\n",
      "  (dropout1): Dropout(p=0.09, inplace=False)\n",
      "  (adaptive_avgPool2d2): AdaptiveAvgPool2d(output_size=(1, 1))\n",
      "  (linear1): Sequential(\n",
      "    (0): Linear(in_features=512, out_features=30, bias=True)\n",
      "  )\n",
      ")\n"
     ]
    }
   ],
   "source": [
    "print(facial_keypoint_pipeline.model)"
   ]
  },
  {
   "cell_type": "code",
   "execution_count": null,
   "id": "0a5e982a",
   "metadata": {
    "scrolled": true
   },
   "outputs": [
    {
     "name": "stderr",
     "output_type": "stream",
     "text": [
      "\r",
      "  0%|                                                                                           | 0/20 [00:00<?, ?it/s]"
     ]
    },
    {
     "name": "stdout",
     "output_type": "stream",
     "text": [
      "root - INFO - Train Loss for epoch 0: 345.8819 - 08-Feb-23 13:55:44\n",
      "root - INFO - Validation Loss for epoch 0: 198495.6781 - 08-Feb-23 13:56:04\n"
     ]
    },
    {
     "name": "stderr",
     "output_type": "stream",
     "text": [
      "\r",
      "  5%|████▏                                                                              | 1/20 [00:47<15:10, 47.93s/it]"
     ]
    },
    {
     "name": "stdout",
     "output_type": "stream",
     "text": [
      "root - INFO - Train Loss for epoch 1: 23.9061 - 08-Feb-23 13:56:26\n",
      "root - INFO - Validation Loss for epoch 1: 58.6419 - 08-Feb-23 13:56:47\n"
     ]
    },
    {
     "name": "stderr",
     "output_type": "stream",
     "text": [
      "\r",
      " 10%|████████▎                                                                          | 2/20 [01:30<13:30, 45.01s/it]"
     ]
    },
    {
     "name": "stdout",
     "output_type": "stream",
     "text": [
      "root - INFO - Train Loss for epoch 2: 15.2385 - 08-Feb-23 13:57:09\n"
     ]
    }
   ],
   "source": [
    "facial_keypoint_pipeline.train()\n"
   ]
  },
  {
   "cell_type": "code",
   "execution_count": 8,
   "id": "3047bdc7",
   "metadata": {
    "scrolled": true
   },
   "outputs": [
    {
     "data": {
      "image/png": "[encoded data removed]",
      "text/plain": [
       "<Figure size 1000x700 with 1 Axes>"
      ]
     },
     "metadata": {},
     "output_type": "display_data"
    }
   ],
   "source": [
    "facial_keypoint_pipeline.generate_train_validation_loss_curves()"
   ]
  },
  {
   "cell_type": "code",
   "execution_count": 16,
   "id": "c52a57d3",
   "metadata": {},
   "outputs": [
    {
     "data": {
      "image/png": "[encoded data removed]",
      "text/plain": [
       "<Figure size 1000x700 with 1 Axes>"
      ]
     },
     "metadata": {},
     "output_type": "display_data"
    }
   ],
   "source": [
    "from matplotlib import pyplot as plt\n",
    "import numpy as np\n",
    "\n",
    "plt.figure(figsize=(10, 7))\n",
    "plt.plot(np.log(facial_keypoint_pipeline.train_loss), color='blue', label='train loss through epochs')\n",
    "plt.plot(np.log(facial_keypoint_pipeline.validation_loss), color='red', label='validataion loss through epochs')\n",
    "plt.xlabel('Epochs')\n",
    "plt.ylabel('Loss')\n",
    "plt.legend()\n",
    "\n",
    "plt.show()"
   ]
  },
  {
   "cell_type": "code",
   "execution_count": 13,
   "id": "221164ba",
   "metadata": {},
   "outputs": [
    {
     "data": {
      "text/plain": [
       "Resnet(\n",
       "  (maxPool2d1): MaxPool2d(kernel_size=(3, 3), stride=2, padding=1, dilation=1, ceil_mode=False)\n",
       "  (conv2d1): Sequential(\n",
       "    (0): Conv2d(1, 64, kernel_size=(7, 7), stride=(2, 2), padding=(3, 3))\n",
       "    (1): BatchNorm2d(64, eps=1e-05, momentum=0.5, affine=True, track_running_stats=True)\n",
       "    (2): LeakyReLU(negative_slope=0.01)\n",
       "    (3): MaxPool2d(kernel_size=(3, 3), stride=2, padding=1, dilation=1, ceil_mode=False)\n",
       "  )\n",
       "  (Resnet_18conv2Block): ResnetBlock(\n",
       "    (BasicBlock2): Sequential(\n",
       "      (0): Conv2d(64, 64, kernel_size=(3, 3), stride=(1, 1), padding=(1, 1), bias=False)\n",
       "      (1): BatchNorm2d(64, eps=1e-05, momentum=0.5, affine=True, track_running_stats=True)\n",
       "      (2): LeakyReLU(negative_slope=0.01)\n",
       "      (3): Conv2d(64, 64, kernel_size=(3, 3), stride=(1, 1), padding=(1, 1), bias=False)\n",
       "      (4): BatchNorm2d(64, eps=1e-05, momentum=0.5, affine=True, track_running_stats=True)\n",
       "    )\n",
       "  )\n",
       "  (Resnet_18conv3Block): ResnetBlock(\n",
       "    (downsample): Sequential(\n",
       "      (0): Conv2d(64, 128, kernel_size=(1, 1), stride=(2, 2), bias=False)\n",
       "      (1): BatchNorm2d(128, eps=1e-05, momentum=0.5, affine=True, track_running_stats=True)\n",
       "    )\n",
       "    (BasicBlock2): Sequential(\n",
       "      (0): Conv2d(64, 128, kernel_size=(3, 3), stride=(2, 2), padding=(1, 1), bias=False)\n",
       "      (1): BatchNorm2d(128, eps=1e-05, momentum=0.5, affine=True, track_running_stats=True)\n",
       "      (2): LeakyReLU(negative_slope=0.01)\n",
       "      (3): Conv2d(128, 128, kernel_size=(3, 3), stride=(1, 1), padding=(1, 1), bias=False)\n",
       "      (4): BatchNorm2d(128, eps=1e-05, momentum=0.5, affine=True, track_running_stats=True)\n",
       "    )\n",
       "  )\n",
       "  (Resnet_18conv4Block): ResnetBlock(\n",
       "    (downsample): Sequential(\n",
       "      (0): Conv2d(128, 256, kernel_size=(1, 1), stride=(2, 2), bias=False)\n",
       "      (1): BatchNorm2d(256, eps=1e-05, momentum=0.5, affine=True, track_running_stats=True)\n",
       "    )\n",
       "    (BasicBlock2): Sequential(\n",
       "      (0): Conv2d(128, 256, kernel_size=(3, 3), stride=(2, 2), padding=(1, 1), bias=False)\n",
       "      (1): BatchNorm2d(256, eps=1e-05, momentum=0.5, affine=True, track_running_stats=True)\n",
       "      (2): LeakyReLU(negative_slope=0.01)\n",
       "      (3): Conv2d(256, 256, kernel_size=(3, 3), stride=(1, 1), padding=(1, 1), bias=False)\n",
       "      (4): BatchNorm2d(256, eps=1e-05, momentum=0.5, affine=True, track_running_stats=True)\n",
       "    )\n",
       "  )\n",
       "  (Resnet_18conv5Block): ResnetBlock(\n",
       "    (downsample): Sequential(\n",
       "      (0): Conv2d(256, 512, kernel_size=(1, 1), stride=(2, 2), bias=False)\n",
       "      (1): BatchNorm2d(512, eps=1e-05, momentum=0.5, affine=True, track_running_stats=True)\n",
       "    )\n",
       "    (BasicBlock2): Sequential(\n",
       "      (0): Conv2d(256, 512, kernel_size=(3, 3), stride=(2, 2), padding=(1, 1), bias=False)\n",
       "      (1): BatchNorm2d(512, eps=1e-05, momentum=0.5, affine=True, track_running_stats=True)\n",
       "      (2): LeakyReLU(negative_slope=0.01)\n",
       "      (3): Conv2d(512, 512, kernel_size=(3, 3), stride=(1, 1), padding=(1, 1), bias=False)\n",
       "      (4): BatchNorm2d(512, eps=1e-05, momentum=0.5, affine=True, track_running_stats=True)\n",
       "    )\n",
       "  )\n",
       "  (adaptive_avgPool2d2): AdaptiveAvgPool2d(output_size=(1, 1))\n",
       "  (linear1): Sequential(\n",
       "    (0): Linear(in_features=512, out_features=30, bias=True)\n",
       "  )\n",
       ")"
      ]
     },
     "execution_count": 13,
     "metadata": {},
     "output_type": "execute_result"
    }
   ],
   "source": [
    "facial_keypoint_pipeline.best_model"
   ]
  },
  {
   "cell_type": "markdown",
   "id": "d4f5e387",
   "metadata": {},
   "source": [
    "#### Further work on Kaggle -> https://www.kaggle.com/code/sunnyjoshi1401/facial-keypoint-detection-resnet18"
   ]
  },
  {
   "cell_type": "code",
   "execution_count": null,
   "id": "836c3874",
   "metadata": {},
   "outputs": [],
   "source": []
  }
 ],
 "metadata": {
  "kernelspec": {
   "display_name": "Python 3 (ipykernel)",
   "language": "python",
   "name": "python3"
  },
  "language_info": {
   "codemirror_mode": {
    "name": "ipython",
    "version": 3
   },
   "file_extension": ".py",
   "mimetype": "text/x-python",
   "name": "python",
   "nbconvert_exporter": "python",
   "pygments_lexer": "ipython3",
   "version": "3.9.15"
  }
 },
 "nbformat": 4,
 "nbformat_minor": 5
}
